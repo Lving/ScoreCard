{
 "cells": [
  {
   "cell_type": "code",
   "execution_count": 55,
   "metadata": {},
   "outputs": [],
   "source": [
    "import pandas as pd \n",
    "import numpy as np\n",
    "import seaborn as sns\n",
    "import matplotlib.pyplot as plt\n",
    "from sklearn.model_selection import learning_curve\n",
    "from sklearn.model_selection import ShuffleSplit\n",
    "%matplotlib inline\n",
    "\n",
    "from utils import ChiMerge_MaxInterval_Original, CalcWOE, AssignBin, calcCut\n",
    "from model_test import *"
   ]
  },
  {
   "cell_type": "code",
   "execution_count": 56,
   "metadata": {},
   "outputs": [],
   "source": [
    "data = pd.read_csv('new_data/new_model_datasets.csv')\n",
    "data = data.drop(['datetime'], axis=1)\n",
    "\n",
    "# 删除后面iv较低的字段\n",
    "data = data.drop(['居住地与营业厅同城', '工作地与营业厅同城', '工作地与居住地同城'], axis=1)\n",
    "\n",
    "# 删除高相关且iv较低\n",
    "data = data.drop(['idcard_applied_in_orgs', 'contacts_class1_cnt', 'user_idcard_suspicion_90', 'searched_org_cnt',\n",
    "                 'user_phone_suspicion_90', 'v4', 'v14'], axis=1)"
   ]
  },
  {
   "cell_type": "code",
   "execution_count": 57,
   "metadata": {},
   "outputs": [
    {
     "data": {
      "text/plain": [
       "Index(['customer_id', 'Good_Bad', '数据集划分', 'age', 'gender',\n",
       "       'ever_bind_card_num', '手机归属本外地', '工作地城市等级', '营业厅城市等级', 'v1', 'v13',\n",
       "       'v15', 'v16', 'v17', 'v18', 'v20', 'v21', 'v22', 'v23',\n",
       "       'contacts_class1_blacklist_cnt', 'contacts_class2_blacklist_cnt',\n",
       "       'contacts_router_cnt', 'contacts_router_ratio', 'phone_applied_org_cnt',\n",
       "       'phone_gray_score', 'user_searched_history_by_orgs_90'],\n",
       "      dtype='object')"
      ]
     },
     "execution_count": 57,
     "metadata": {},
     "output_type": "execute_result"
    }
   ],
   "source": [
    "data.columns"
   ]
  },
  {
   "cell_type": "code",
   "execution_count": 58,
   "metadata": {},
   "outputs": [],
   "source": [
    "data.corr().to_csv('corr.csv', index=False, encoding='gbk')"
   ]
  },
  {
   "cell_type": "markdown",
   "metadata": {},
   "source": [
    "### 1. 粗分箱"
   ]
  },
  {
   "cell_type": "code",
   "execution_count": 42,
   "metadata": {},
   "outputs": [],
   "source": [
    "def split_column(df, exclude=[]):\n",
    "    bins = {}\n",
    "    data = df.copy()\n",
    "    for c in data.columns:\n",
    "        if c not in exclude and df[c].dtype in ['int64', 'float64']:\n",
    "            print('processing: %s' % c)\n",
    "            c_bin = ChiMerge_MaxInterval_Original(data, col=c, target='Good_Bad', max_interval=7)\n",
    "            bins[c] = c_bin\n",
    "    return bins"
   ]
  },
  {
   "cell_type": "code",
   "execution_count": 43,
   "metadata": {},
   "outputs": [
    {
     "name": "stdout",
     "output_type": "stream",
     "text": [
      "processing: age\n",
      "processing: ever_bind_card_num\n",
      "processing: contacts_class1_blacklist_cnt\n",
      "processing: contacts_class2_blacklist_cnt\n",
      "processing: contacts_router_cnt\n",
      "processing: contacts_router_ratio\n",
      "processing: phone_applied_org_cnt\n",
      "processing: phone_gray_score\n",
      "processing: user_phone_suspicion_90\n",
      "processing: user_searched_history_by_orgs_90\n"
     ]
    }
   ],
   "source": [
    "cutpoints = split_column(data, exclude=['customer_id', 'Good_Bad', 'gender', '手机归属本外地', '居住地与营业厅同城'\n",
    "                                       ,'工作地与营业厅同城', '工作地与居住地同城', '工作地城市等级', '营业厅城市等级', 'v1', 'v4'])"
   ]
  },
  {
   "cell_type": "code",
   "execution_count": 44,
   "metadata": {},
   "outputs": [
    {
     "data": {
      "text/plain": [
       "{'age': [22, 24, 28, 36, 37, 44],\n",
       " 'ever_bind_card_num': [0, 1, 3, 4, 5, 6],\n",
       " 'contacts_class1_blacklist_cnt': [0.0, 1.0, 2.0, 6.0, 7.0, 13.0],\n",
       " 'contacts_class2_blacklist_cnt': [0.0, 0.0, 1.0, 3.0, 7.0, 9.0],\n",
       " 'contacts_router_cnt': [0.0, 0.0, 1.0, 1.0, 3.0, 6.0],\n",
       " 'contacts_router_ratio': [0.0, 0.3, 0.4, 0.5, 0.6, 0.9],\n",
       " 'phone_applied_org_cnt': [0.0, 2.0, 3.0, 4.0, 5.0, 6.0],\n",
       " 'phone_gray_score': [6.0, 8.0, 9.0, 13.0, 33.0, 57.0],\n",
       " 'user_phone_suspicion_90': [0.0, 1.0, 2.0, 3.0, 4.0, 5.0],\n",
       " 'user_searched_history_by_orgs_90': [0.0, 3.0, 5.0, 8.0, 19.0, 24.0]}"
      ]
     },
     "execution_count": 44,
     "metadata": {},
     "output_type": "execute_result"
    }
   ],
   "source": [
    "cutpoints"
   ]
  },
  {
   "cell_type": "code",
   "execution_count": 45,
   "metadata": {},
   "outputs": [],
   "source": [
    "def out_detail(data, cutpoints, target_col, cus_col):\n",
    "    data = data.copy()\n",
    "    woe_dfs = []  # 字段的woe及详情， dataframe\n",
    "    discrete_dfs = []  # cut后的离散表\n",
    "    woe_dict = {}  # 字段的woe， dict， 便于转换\n",
    "    columns = [c for c in data.columns if c not in (target_col, cus_col)]\n",
    "    for c in columns:\n",
    "        if c in cutpoints.keys():\n",
    "            df_woe_info, df_woe_cut = calcCut(data, c, target_col, cutpoints[c], 'dataframe')\n",
    "            dict_woe_info, _ = calcCut(data, c, target_col, cutpoints[c], 'dict')\n",
    "        else:\n",
    "            df_woe_info, df_woe_cut = calcCut(data, c, target_col, None, 'dataframe')\n",
    "            dict_woe_info, _ = calcCut(data, c, target_col, None, 'dict')\n",
    "        df_woe_info['var_name'] = c\n",
    "        woe_dfs.append(df_woe_info)\n",
    "        woe_dict[c] = dict_woe_info\n",
    "        # df_woe_cut 中有isBad 先删除\n",
    "        df_woe_cut = df_woe_cut.drop([target_col], axis=1)  # 按行拼接\n",
    "        discrete_dfs.append(df_woe_cut)  # 按列拼接\n",
    "    woe_info = pd.concat(woe_dfs)\n",
    "    discrete_data = pd.concat(discrete_dfs,axis=1)\n",
    "    discrete_data[target_col] = data[target_col]\n",
    "    discrete_data[cus_col] = data[cus_col]\n",
    "    # 离散数据， woe_dataframe, woe_dict\n",
    "    return discrete_data, woe_info, woe_dict"
   ]
  },
  {
   "cell_type": "code",
   "execution_count": 46,
   "metadata": {},
   "outputs": [],
   "source": [
    "# 粗分箱分析\n",
    "_, woe_df, _ = out_detail(data=data, cutpoints=cutpoints, target_col='Good_Bad', cus_col='customer_id')\n",
    "woe_df.to_csv('DATA_WOE_COARSE.csv', index=False, encoding='gbk')"
   ]
  },
  {
   "cell_type": "code",
   "execution_count": 47,
   "metadata": {},
   "outputs": [
    {
     "data": {
      "text/html": [
       "<div>\n",
       "<style scoped>\n",
       "    .dataframe tbody tr th:only-of-type {\n",
       "        vertical-align: middle;\n",
       "    }\n",
       "\n",
       "    .dataframe tbody tr th {\n",
       "        vertical-align: top;\n",
       "    }\n",
       "\n",
       "    .dataframe thead th {\n",
       "        text-align: right;\n",
       "    }\n",
       "</style>\n",
       "<table border=\"1\" class=\"dataframe\">\n",
       "  <thead>\n",
       "    <tr style=\"text-align: right;\">\n",
       "      <th></th>\n",
       "      <th>interval</th>\n",
       "      <th>total</th>\n",
       "      <th>bad</th>\n",
       "      <th>good</th>\n",
       "      <th>bad_pct</th>\n",
       "      <th>good_pct</th>\n",
       "      <th>PctRec</th>\n",
       "      <th>WOE</th>\n",
       "      <th>ori_iv</th>\n",
       "      <th>sum_iv</th>\n",
       "      <th>var_name</th>\n",
       "    </tr>\n",
       "  </thead>\n",
       "  <tbody>\n",
       "    <tr>\n",
       "      <th>0</th>\n",
       "      <td>测试集</td>\n",
       "      <td>5126</td>\n",
       "      <td>272</td>\n",
       "      <td>4854</td>\n",
       "      <td>0.192771</td>\n",
       "      <td>0.286693</td>\n",
       "      <td>0.279468</td>\n",
       "      <td>0.391735</td>\n",
       "      <td>0.036792</td>\n",
       "      <td>0.048526</td>\n",
       "      <td>数据集划分</td>\n",
       "    </tr>\n",
       "    <tr>\n",
       "      <th>1</th>\n",
       "      <td>训练集</td>\n",
       "      <td>13216</td>\n",
       "      <td>1139</td>\n",
       "      <td>12077</td>\n",
       "      <td>0.807229</td>\n",
       "      <td>0.713307</td>\n",
       "      <td>0.720532</td>\n",
       "      <td>-0.124933</td>\n",
       "      <td>0.011734</td>\n",
       "      <td>0.048526</td>\n",
       "      <td>数据集划分</td>\n",
       "    </tr>\n",
       "    <tr>\n",
       "      <th>0</th>\n",
       "      <td>(22, 24)</td>\n",
       "      <td>601</td>\n",
       "      <td>70</td>\n",
       "      <td>531</td>\n",
       "      <td>0.049610</td>\n",
       "      <td>0.031363</td>\n",
       "      <td>0.032766</td>\n",
       "      <td>-0.478537</td>\n",
       "      <td>0.008732</td>\n",
       "      <td>0.020165</td>\n",
       "      <td>age</td>\n",
       "    </tr>\n",
       "    <tr>\n",
       "      <th>1</th>\n",
       "      <td>(24, 28)</td>\n",
       "      <td>2931</td>\n",
       "      <td>269</td>\n",
       "      <td>2662</td>\n",
       "      <td>0.190645</td>\n",
       "      <td>0.157226</td>\n",
       "      <td>0.159797</td>\n",
       "      <td>-0.197958</td>\n",
       "      <td>0.006615</td>\n",
       "      <td>0.020165</td>\n",
       "      <td>age</td>\n",
       "    </tr>\n",
       "    <tr>\n",
       "      <th>2</th>\n",
       "      <td>(28, 36)</td>\n",
       "      <td>7059</td>\n",
       "      <td>519</td>\n",
       "      <td>6540</td>\n",
       "      <td>0.367824</td>\n",
       "      <td>0.386274</td>\n",
       "      <td>0.384854</td>\n",
       "      <td>0.046226</td>\n",
       "      <td>0.000853</td>\n",
       "      <td>0.020165</td>\n",
       "      <td>age</td>\n",
       "    </tr>\n",
       "  </tbody>\n",
       "</table>\n",
       "</div>"
      ],
      "text/plain": [
       "   interval  total   bad   good   bad_pct  good_pct    PctRec       WOE  \\\n",
       "0       测试集   5126   272   4854  0.192771  0.286693  0.279468  0.391735   \n",
       "1       训练集  13216  1139  12077  0.807229  0.713307  0.720532 -0.124933   \n",
       "0  (22, 24)    601    70    531  0.049610  0.031363  0.032766 -0.478537   \n",
       "1  (24, 28)   2931   269   2662  0.190645  0.157226  0.159797 -0.197958   \n",
       "2  (28, 36)   7059   519   6540  0.367824  0.386274  0.384854  0.046226   \n",
       "\n",
       "     ori_iv    sum_iv var_name  \n",
       "0  0.036792  0.048526    数据集划分  \n",
       "1  0.011734  0.048526    数据集划分  \n",
       "0  0.008732  0.020165      age  \n",
       "1  0.006615  0.020165      age  \n",
       "2  0.000853  0.020165      age  "
      ]
     },
     "execution_count": 47,
     "metadata": {},
     "output_type": "execute_result"
    }
   ],
   "source": [
    "woe_df.head() # 用于分析"
   ]
  },
  {
   "cell_type": "markdown",
   "metadata": {},
   "source": [
    "### 2. 人工细分箱\n",
    "根据woe_df的结果, 对卡方分箱进行合并整理,   \n",
    "同时删除iv较低的特征"
   ]
  },
  {
   "cell_type": "code",
   "execution_count": 120,
   "metadata": {},
   "outputs": [],
   "source": [
    "manual_cutpoints = {\n",
    " 'age': [22, 28, 36, 44],\n",
    " 'ever_bind_card_num': [0, 1],\n",
    " 'contacts_class1_blacklist_cnt': [0.0, 1.0],\n",
    " 'contacts_class2_blacklist_cnt': [0.0, 3.0, 9.0],\n",
    " 'contacts_router_cnt': [0.0, 0.0, 1.0, 1.0, 3.0, 6.0],\n",
    " 'contacts_router_ratio': [0.0, 0.4, 0.6],\n",
    " 'phone_applied_org_cnt': [0.0, 2.0, 3.0, 4.0, 5.0, 6.0],\n",
    " 'phone_gray_score': [13.0, 33.0, 57.0],\n",
    " # 'user_phone_suspicion_90': [0.0, 1.0, 2.0, 3.0, 4.0, 5.0],\n",
    " 'user_searched_history_by_orgs_90': [0.0, 3.0, 5.0, 8.0, 19.0, 24.0]\n",
    "}"
   ]
  },
  {
   "cell_type": "code",
   "execution_count": 121,
   "metadata": {},
   "outputs": [
    {
     "data": {
      "text/html": [
       "<div>\n",
       "<style scoped>\n",
       "    .dataframe tbody tr th:only-of-type {\n",
       "        vertical-align: middle;\n",
       "    }\n",
       "\n",
       "    .dataframe tbody tr th {\n",
       "        vertical-align: top;\n",
       "    }\n",
       "\n",
       "    .dataframe thead th {\n",
       "        text-align: right;\n",
       "    }\n",
       "</style>\n",
       "<table border=\"1\" class=\"dataframe\">\n",
       "  <thead>\n",
       "    <tr style=\"text-align: right;\">\n",
       "      <th></th>\n",
       "      <th>age</th>\n",
       "      <th>ever_bind_card_num</th>\n",
       "      <th>contacts_class1_blacklist_cnt</th>\n",
       "      <th>contacts_class2_blacklist_cnt</th>\n",
       "      <th>contacts_router_cnt</th>\n",
       "      <th>contacts_router_ratio</th>\n",
       "      <th>phone_applied_org_cnt</th>\n",
       "      <th>phone_gray_score</th>\n",
       "      <th>user_searched_history_by_orgs_90</th>\n",
       "    </tr>\n",
       "  </thead>\n",
       "  <tbody>\n",
       "    <tr>\n",
       "      <th>age</th>\n",
       "      <td>1.000000</td>\n",
       "      <td>0.071200</td>\n",
       "      <td>-0.041890</td>\n",
       "      <td>-0.060987</td>\n",
       "      <td>-0.070078</td>\n",
       "      <td>0.043746</td>\n",
       "      <td>-0.136575</td>\n",
       "      <td>0.077281</td>\n",
       "      <td>-0.088853</td>\n",
       "    </tr>\n",
       "    <tr>\n",
       "      <th>ever_bind_card_num</th>\n",
       "      <td>0.071200</td>\n",
       "      <td>1.000000</td>\n",
       "      <td>-0.025980</td>\n",
       "      <td>-0.064684</td>\n",
       "      <td>-0.089654</td>\n",
       "      <td>0.019383</td>\n",
       "      <td>-0.161574</td>\n",
       "      <td>0.066894</td>\n",
       "      <td>-0.085129</td>\n",
       "    </tr>\n",
       "    <tr>\n",
       "      <th>contacts_class1_blacklist_cnt</th>\n",
       "      <td>-0.041890</td>\n",
       "      <td>-0.025980</td>\n",
       "      <td>1.000000</td>\n",
       "      <td>0.325460</td>\n",
       "      <td>0.558377</td>\n",
       "      <td>0.126712</td>\n",
       "      <td>0.214756</td>\n",
       "      <td>-0.473253</td>\n",
       "      <td>0.077628</td>\n",
       "    </tr>\n",
       "    <tr>\n",
       "      <th>contacts_class2_blacklist_cnt</th>\n",
       "      <td>-0.060987</td>\n",
       "      <td>-0.064684</td>\n",
       "      <td>0.325460</td>\n",
       "      <td>1.000000</td>\n",
       "      <td>0.735118</td>\n",
       "      <td>0.013909</td>\n",
       "      <td>0.452638</td>\n",
       "      <td>-0.391601</td>\n",
       "      <td>0.258934</td>\n",
       "    </tr>\n",
       "    <tr>\n",
       "      <th>contacts_router_cnt</th>\n",
       "      <td>-0.070078</td>\n",
       "      <td>-0.089654</td>\n",
       "      <td>0.558377</td>\n",
       "      <td>0.735118</td>\n",
       "      <td>1.000000</td>\n",
       "      <td>-0.003514</td>\n",
       "      <td>0.572112</td>\n",
       "      <td>-0.541359</td>\n",
       "      <td>0.312858</td>\n",
       "    </tr>\n",
       "    <tr>\n",
       "      <th>contacts_router_ratio</th>\n",
       "      <td>0.043746</td>\n",
       "      <td>0.019383</td>\n",
       "      <td>0.126712</td>\n",
       "      <td>0.013909</td>\n",
       "      <td>-0.003514</td>\n",
       "      <td>1.000000</td>\n",
       "      <td>-0.146727</td>\n",
       "      <td>-0.019067</td>\n",
       "      <td>-0.092538</td>\n",
       "    </tr>\n",
       "    <tr>\n",
       "      <th>phone_applied_org_cnt</th>\n",
       "      <td>-0.136575</td>\n",
       "      <td>-0.161574</td>\n",
       "      <td>0.214756</td>\n",
       "      <td>0.452638</td>\n",
       "      <td>0.572112</td>\n",
       "      <td>-0.146727</td>\n",
       "      <td>1.000000</td>\n",
       "      <td>-0.434709</td>\n",
       "      <td>0.655712</td>\n",
       "    </tr>\n",
       "    <tr>\n",
       "      <th>phone_gray_score</th>\n",
       "      <td>0.077281</td>\n",
       "      <td>0.066894</td>\n",
       "      <td>-0.473253</td>\n",
       "      <td>-0.391601</td>\n",
       "      <td>-0.541359</td>\n",
       "      <td>-0.019067</td>\n",
       "      <td>-0.434709</td>\n",
       "      <td>1.000000</td>\n",
       "      <td>-0.235101</td>\n",
       "    </tr>\n",
       "    <tr>\n",
       "      <th>user_searched_history_by_orgs_90</th>\n",
       "      <td>-0.088853</td>\n",
       "      <td>-0.085129</td>\n",
       "      <td>0.077628</td>\n",
       "      <td>0.258934</td>\n",
       "      <td>0.312858</td>\n",
       "      <td>-0.092538</td>\n",
       "      <td>0.655712</td>\n",
       "      <td>-0.235101</td>\n",
       "      <td>1.000000</td>\n",
       "    </tr>\n",
       "  </tbody>\n",
       "</table>\n",
       "</div>"
      ],
      "text/plain": [
       "                                       age  ever_bind_card_num  \\\n",
       "age                               1.000000            0.071200   \n",
       "ever_bind_card_num                0.071200            1.000000   \n",
       "contacts_class1_blacklist_cnt    -0.041890           -0.025980   \n",
       "contacts_class2_blacklist_cnt    -0.060987           -0.064684   \n",
       "contacts_router_cnt              -0.070078           -0.089654   \n",
       "contacts_router_ratio             0.043746            0.019383   \n",
       "phone_applied_org_cnt            -0.136575           -0.161574   \n",
       "phone_gray_score                  0.077281            0.066894   \n",
       "user_searched_history_by_orgs_90 -0.088853           -0.085129   \n",
       "\n",
       "                                  contacts_class1_blacklist_cnt  \\\n",
       "age                                                   -0.041890   \n",
       "ever_bind_card_num                                    -0.025980   \n",
       "contacts_class1_blacklist_cnt                          1.000000   \n",
       "contacts_class2_blacklist_cnt                          0.325460   \n",
       "contacts_router_cnt                                    0.558377   \n",
       "contacts_router_ratio                                  0.126712   \n",
       "phone_applied_org_cnt                                  0.214756   \n",
       "phone_gray_score                                      -0.473253   \n",
       "user_searched_history_by_orgs_90                       0.077628   \n",
       "\n",
       "                                  contacts_class2_blacklist_cnt  \\\n",
       "age                                                   -0.060987   \n",
       "ever_bind_card_num                                    -0.064684   \n",
       "contacts_class1_blacklist_cnt                          0.325460   \n",
       "contacts_class2_blacklist_cnt                          1.000000   \n",
       "contacts_router_cnt                                    0.735118   \n",
       "contacts_router_ratio                                  0.013909   \n",
       "phone_applied_org_cnt                                  0.452638   \n",
       "phone_gray_score                                      -0.391601   \n",
       "user_searched_history_by_orgs_90                       0.258934   \n",
       "\n",
       "                                  contacts_router_cnt  contacts_router_ratio  \\\n",
       "age                                         -0.070078               0.043746   \n",
       "ever_bind_card_num                          -0.089654               0.019383   \n",
       "contacts_class1_blacklist_cnt                0.558377               0.126712   \n",
       "contacts_class2_blacklist_cnt                0.735118               0.013909   \n",
       "contacts_router_cnt                          1.000000              -0.003514   \n",
       "contacts_router_ratio                       -0.003514               1.000000   \n",
       "phone_applied_org_cnt                        0.572112              -0.146727   \n",
       "phone_gray_score                            -0.541359              -0.019067   \n",
       "user_searched_history_by_orgs_90             0.312858              -0.092538   \n",
       "\n",
       "                                  phone_applied_org_cnt  phone_gray_score  \\\n",
       "age                                           -0.136575          0.077281   \n",
       "ever_bind_card_num                            -0.161574          0.066894   \n",
       "contacts_class1_blacklist_cnt                  0.214756         -0.473253   \n",
       "contacts_class2_blacklist_cnt                  0.452638         -0.391601   \n",
       "contacts_router_cnt                            0.572112         -0.541359   \n",
       "contacts_router_ratio                         -0.146727         -0.019067   \n",
       "phone_applied_org_cnt                          1.000000         -0.434709   \n",
       "phone_gray_score                              -0.434709          1.000000   \n",
       "user_searched_history_by_orgs_90               0.655712         -0.235101   \n",
       "\n",
       "                                  user_searched_history_by_orgs_90  \n",
       "age                                                      -0.088853  \n",
       "ever_bind_card_num                                       -0.085129  \n",
       "contacts_class1_blacklist_cnt                             0.077628  \n",
       "contacts_class2_blacklist_cnt                             0.258934  \n",
       "contacts_router_cnt                                       0.312858  \n",
       "contacts_router_ratio                                    -0.092538  \n",
       "phone_applied_org_cnt                                     0.655712  \n",
       "phone_gray_score                                         -0.235101  \n",
       "user_searched_history_by_orgs_90                          1.000000  "
      ]
     },
     "execution_count": 121,
     "metadata": {},
     "output_type": "execute_result"
    }
   ],
   "source": [
    "# 再次检查相关性\n",
    "data[list(manual_cutpoints.keys())].corr()"
   ]
  },
  {
   "cell_type": "code",
   "execution_count": 122,
   "metadata": {},
   "outputs": [],
   "source": [
    "discrete_data, woe_df, woe_dict = out_detail(data=data, cutpoints=manual_cutpoints, target_col='Good_Bad', cus_col='customer_id')"
   ]
  },
  {
   "cell_type": "code",
   "execution_count": 123,
   "metadata": {},
   "outputs": [],
   "source": [
    "# 保留此字段，仅为获得相同的实验条件\n",
    "woe_df = woe_df[woe_df['var_name'] != '数据集划分']\n",
    "woe_df.to_csv('DATA_DISCRETE_BINS_MANUAL.csv', index=False, encoding='gbk')"
   ]
  },
  {
   "cell_type": "markdown",
   "metadata": {},
   "source": [
    "## 转换成WOE分值"
   ]
  },
  {
   "cell_type": "code",
   "execution_count": 125,
   "metadata": {},
   "outputs": [],
   "source": [
    "# test\n",
    "# woe_dict['quota']['WOE']['(0, 19700)']['WOE']\n",
    "# discrete_data['quota_Bins'].map(lambda x: woe_dict['quota']['WOE'][x]['WOE'])"
   ]
  },
  {
   "cell_type": "code",
   "execution_count": 126,
   "metadata": {},
   "outputs": [],
   "source": [
    "woe_data = pd.DataFrame()\n",
    "for c in discrete_data.columns:\n",
    "    if c not in ['customer_id', 'Good_Bad']:\n",
    "        raw_col = '_'.join(c.split('_')[:-1])\n",
    "        woe_data['%s_woe' % raw_col] = discrete_data[c].map(lambda x: woe_dict[raw_col]['WOE'][x]['WOE'])"
   ]
  },
  {
   "cell_type": "code",
   "execution_count": 127,
   "metadata": {},
   "outputs": [],
   "source": [
    "# 转换好坏的概念\n",
    "# \n",
    "woe_data['Good_Bad'] =  1-data['Good_Bad']\n",
    "woe_data['customer_id'] = data['customer_id']\n",
    "woe_data['数据集划分'] = data['数据集划分']"
   ]
  },
  {
   "cell_type": "code",
   "execution_count": 128,
   "metadata": {},
   "outputs": [],
   "source": [
    "woe_data.to_csv('WOE_TRANS_DATA.csv', index=False)"
   ]
  },
  {
   "cell_type": "code",
   "execution_count": 129,
   "metadata": {},
   "outputs": [
    {
     "data": {
      "text/html": [
       "<div>\n",
       "<style scoped>\n",
       "    .dataframe tbody tr th:only-of-type {\n",
       "        vertical-align: middle;\n",
       "    }\n",
       "\n",
       "    .dataframe tbody tr th {\n",
       "        vertical-align: top;\n",
       "    }\n",
       "\n",
       "    .dataframe thead th {\n",
       "        text-align: right;\n",
       "    }\n",
       "</style>\n",
       "<table border=\"1\" class=\"dataframe\">\n",
       "  <thead>\n",
       "    <tr style=\"text-align: right;\">\n",
       "      <th></th>\n",
       "      <th>数据集划分_woe</th>\n",
       "      <th>age_woe</th>\n",
       "      <th>gender_woe</th>\n",
       "      <th>ever_bind_card_num_woe</th>\n",
       "      <th>手机归属本外地_woe</th>\n",
       "      <th>工作地城市等级_woe</th>\n",
       "      <th>营业厅城市等级_woe</th>\n",
       "      <th>v1_woe</th>\n",
       "      <th>v13_woe</th>\n",
       "      <th>v15_woe</th>\n",
       "      <th>...</th>\n",
       "      <th>contacts_class1_blacklist_cnt_woe</th>\n",
       "      <th>contacts_class2_blacklist_cnt_woe</th>\n",
       "      <th>contacts_router_cnt_woe</th>\n",
       "      <th>contacts_router_ratio_woe</th>\n",
       "      <th>phone_applied_org_cnt_woe</th>\n",
       "      <th>phone_gray_score_woe</th>\n",
       "      <th>user_searched_history_by_orgs_90_woe</th>\n",
       "      <th>Good_Bad</th>\n",
       "      <th>customer_id</th>\n",
       "      <th>数据集划分</th>\n",
       "    </tr>\n",
       "  </thead>\n",
       "  <tbody>\n",
       "    <tr>\n",
       "      <th>0</th>\n",
       "      <td>-0.124933</td>\n",
       "      <td>-0.246285</td>\n",
       "      <td>0.386974</td>\n",
       "      <td>0.14517</td>\n",
       "      <td>0.059388</td>\n",
       "      <td>-0.072380</td>\n",
       "      <td>0.404371</td>\n",
       "      <td>-0.072869</td>\n",
       "      <td>0.225895</td>\n",
       "      <td>-0.661179</td>\n",
       "      <td>...</td>\n",
       "      <td>0.115613</td>\n",
       "      <td>-0.229831</td>\n",
       "      <td>-0.341317</td>\n",
       "      <td>0.413370</td>\n",
       "      <td>-0.628230</td>\n",
       "      <td>0.003206</td>\n",
       "      <td>0.271267</td>\n",
       "      <td>1</td>\n",
       "      <td>821448</td>\n",
       "      <td>训练集</td>\n",
       "    </tr>\n",
       "    <tr>\n",
       "      <th>1</th>\n",
       "      <td>-0.124933</td>\n",
       "      <td>-0.246285</td>\n",
       "      <td>0.386974</td>\n",
       "      <td>0.14517</td>\n",
       "      <td>0.059388</td>\n",
       "      <td>-0.492023</td>\n",
       "      <td>-0.461794</td>\n",
       "      <td>-0.072869</td>\n",
       "      <td>0.225895</td>\n",
       "      <td>0.318211</td>\n",
       "      <td>...</td>\n",
       "      <td>0.115613</td>\n",
       "      <td>-0.229831</td>\n",
       "      <td>-0.341317</td>\n",
       "      <td>-0.263406</td>\n",
       "      <td>-1.146442</td>\n",
       "      <td>0.003206</td>\n",
       "      <td>0.271267</td>\n",
       "      <td>1</td>\n",
       "      <td>873406</td>\n",
       "      <td>训练集</td>\n",
       "    </tr>\n",
       "    <tr>\n",
       "      <th>2</th>\n",
       "      <td>-0.124933</td>\n",
       "      <td>0.123376</td>\n",
       "      <td>0.386974</td>\n",
       "      <td>0.14517</td>\n",
       "      <td>0.059388</td>\n",
       "      <td>0.105069</td>\n",
       "      <td>0.039988</td>\n",
       "      <td>-0.072869</td>\n",
       "      <td>0.225895</td>\n",
       "      <td>0.318211</td>\n",
       "      <td>...</td>\n",
       "      <td>0.115613</td>\n",
       "      <td>0.439108</td>\n",
       "      <td>0.502525</td>\n",
       "      <td>-0.263406</td>\n",
       "      <td>0.528275</td>\n",
       "      <td>0.362661</td>\n",
       "      <td>0.271267</td>\n",
       "      <td>1</td>\n",
       "      <td>923212</td>\n",
       "      <td>训练集</td>\n",
       "    </tr>\n",
       "    <tr>\n",
       "      <th>3</th>\n",
       "      <td>-0.124933</td>\n",
       "      <td>0.005156</td>\n",
       "      <td>0.386974</td>\n",
       "      <td>0.14517</td>\n",
       "      <td>-0.211787</td>\n",
       "      <td>-0.072380</td>\n",
       "      <td>0.243127</td>\n",
       "      <td>-0.072869</td>\n",
       "      <td>-0.011400</td>\n",
       "      <td>0.318211</td>\n",
       "      <td>...</td>\n",
       "      <td>0.115613</td>\n",
       "      <td>0.439108</td>\n",
       "      <td>0.502525</td>\n",
       "      <td>-0.263406</td>\n",
       "      <td>0.528275</td>\n",
       "      <td>0.362661</td>\n",
       "      <td>0.271267</td>\n",
       "      <td>1</td>\n",
       "      <td>925219</td>\n",
       "      <td>训练集</td>\n",
       "    </tr>\n",
       "    <tr>\n",
       "      <th>4</th>\n",
       "      <td>-0.124933</td>\n",
       "      <td>0.046226</td>\n",
       "      <td>-0.376289</td>\n",
       "      <td>-0.08112</td>\n",
       "      <td>0.059388</td>\n",
       "      <td>-0.217972</td>\n",
       "      <td>-0.195460</td>\n",
       "      <td>-0.072869</td>\n",
       "      <td>-0.011400</td>\n",
       "      <td>0.318211</td>\n",
       "      <td>...</td>\n",
       "      <td>0.115613</td>\n",
       "      <td>-0.229831</td>\n",
       "      <td>-0.341317</td>\n",
       "      <td>0.413370</td>\n",
       "      <td>0.528275</td>\n",
       "      <td>0.003206</td>\n",
       "      <td>0.271267</td>\n",
       "      <td>1</td>\n",
       "      <td>924017</td>\n",
       "      <td>训练集</td>\n",
       "    </tr>\n",
       "  </tbody>\n",
       "</table>\n",
       "<p>5 rows × 27 columns</p>\n",
       "</div>"
      ],
      "text/plain": [
       "   数据集划分_woe   age_woe  gender_woe ever_bind_card_num_woe  手机归属本外地_woe  \\\n",
       "0  -0.124933 -0.246285    0.386974                0.14517     0.059388   \n",
       "1  -0.124933 -0.246285    0.386974                0.14517     0.059388   \n",
       "2  -0.124933  0.123376    0.386974                0.14517     0.059388   \n",
       "3  -0.124933  0.005156    0.386974                0.14517    -0.211787   \n",
       "4  -0.124933  0.046226   -0.376289               -0.08112     0.059388   \n",
       "\n",
       "   工作地城市等级_woe  营业厅城市等级_woe    v1_woe   v13_woe   v15_woe  ...   \\\n",
       "0    -0.072380     0.404371 -0.072869  0.225895 -0.661179  ...    \n",
       "1    -0.492023    -0.461794 -0.072869  0.225895  0.318211  ...    \n",
       "2     0.105069     0.039988 -0.072869  0.225895  0.318211  ...    \n",
       "3    -0.072380     0.243127 -0.072869 -0.011400  0.318211  ...    \n",
       "4    -0.217972    -0.195460 -0.072869 -0.011400  0.318211  ...    \n",
       "\n",
       "   contacts_class1_blacklist_cnt_woe  contacts_class2_blacklist_cnt_woe  \\\n",
       "0                           0.115613                          -0.229831   \n",
       "1                           0.115613                          -0.229831   \n",
       "2                           0.115613                           0.439108   \n",
       "3                           0.115613                           0.439108   \n",
       "4                           0.115613                          -0.229831   \n",
       "\n",
       "   contacts_router_cnt_woe  contacts_router_ratio_woe  \\\n",
       "0                -0.341317                   0.413370   \n",
       "1                -0.341317                  -0.263406   \n",
       "2                 0.502525                  -0.263406   \n",
       "3                 0.502525                  -0.263406   \n",
       "4                -0.341317                   0.413370   \n",
       "\n",
       "   phone_applied_org_cnt_woe  phone_gray_score_woe  \\\n",
       "0                  -0.628230              0.003206   \n",
       "1                  -1.146442              0.003206   \n",
       "2                   0.528275              0.362661   \n",
       "3                   0.528275              0.362661   \n",
       "4                   0.528275              0.003206   \n",
       "\n",
       "   user_searched_history_by_orgs_90_woe Good_Bad customer_id 数据集划分  \n",
       "0                              0.271267        1      821448   训练集  \n",
       "1                              0.271267        1      873406   训练集  \n",
       "2                              0.271267        1      923212   训练集  \n",
       "3                              0.271267        1      925219   训练集  \n",
       "4                              0.271267        1      924017   训练集  \n",
       "\n",
       "[5 rows x 27 columns]"
      ]
     },
     "execution_count": 129,
     "metadata": {},
     "output_type": "execute_result"
    }
   ],
   "source": [
    "woe_data.head()"
   ]
  },
  {
   "cell_type": "markdown",
   "metadata": {},
   "source": [
    "## 训练逻辑回归"
   ]
  },
  {
   "cell_type": "code",
   "execution_count": 130,
   "metadata": {},
   "outputs": [],
   "source": [
    "from sklearn.linear_model import LogisticRegression\n",
    "from sklearn.model_selection import train_test_split"
   ]
  },
  {
   "cell_type": "code",
   "execution_count": 131,
   "metadata": {},
   "outputs": [],
   "source": [
    "woe_data = woe_data.drop(['数据集划分_woe'], axis=1)\n",
    "\n",
    "x_train = woe_data[woe_data['数据集划分']=='训练集']\n",
    "train_id = x_train.pop('customer_id')\n",
    "y_train = x_train.pop('Good_Bad')\n",
    "\n",
    "x_test = woe_data[woe_data['数据集划分']=='测试集']\n",
    "test_id = x_test.pop('customer_id')\n",
    "y_test = x_test.pop('Good_Bad')\n",
    "\n",
    "x_train = x_train.drop(['数据集划分'], axis=1)\n",
    "x_test = x_test.drop(['数据集划分'], axis=1)\n",
    "# x_train, x_test, y_train, y_test = train_test_split(\n",
    "#     woe_data.loc[:, woe_data.columns != 'isBad'], woe_data.loc[:, woe_data.columns == 'isBad'], test_size=0.2)"
   ]
  },
  {
   "cell_type": "code",
   "execution_count": 132,
   "metadata": {},
   "outputs": [
    {
     "data": {
      "text/plain": [
       "(13216, 23)"
      ]
     },
     "execution_count": 132,
     "metadata": {},
     "output_type": "execute_result"
    }
   ],
   "source": [
    "x_train.shape"
   ]
  },
  {
   "cell_type": "code",
   "execution_count": 134,
   "metadata": {},
   "outputs": [],
   "source": [
    "lr = LogisticRegression(C=0.3, class_weight={0:10}, max_iter=10)"
   ]
  },
  {
   "cell_type": "code",
   "execution_count": 135,
   "metadata": {},
   "outputs": [
    {
     "data": {
      "text/plain": [
       "LogisticRegression(C=0.3, class_weight={0: 10}, dual=False,\n",
       "          fit_intercept=True, intercept_scaling=1, max_iter=10,\n",
       "          multi_class='ovr', n_jobs=1, penalty='l2', random_state=None,\n",
       "          solver='liblinear', tol=0.0001, verbose=0, warm_start=False)"
      ]
     },
     "execution_count": 135,
     "metadata": {},
     "output_type": "execute_result"
    }
   ],
   "source": [
    "lr.fit(x_train.values, y_train.values.ravel())"
   ]
  },
  {
   "cell_type": "code",
   "execution_count": 176,
   "metadata": {},
   "outputs": [],
   "source": [
    "y_test_pred = lr.predict_proba(x_test)[:,1]\n",
    "y_train_pred = lr.predict_proba(x_train)[:,1]"
   ]
  },
  {
   "cell_type": "code",
   "execution_count": 167,
   "metadata": {},
   "outputs": [
    {
     "name": "stdout",
     "output_type": "stream",
     "text": [
      "++++++++++++++++++++++++++++++++++\n",
      "AUC:  0.8018025323751174\n",
      "Recall:  0.6812993854258121\n",
      "Precision:  0.21896162528216703\n",
      "Accyracy:  0.7630901937046005\n",
      "++++++++++++++++++++++++++++++++++\n"
     ]
    },
    {
     "data": {
      "image/png": "[encoded data removed]",
      "text/plain": [
       "<Figure size 432x288 with 2 Axes>"
      ]
     },
     "metadata": {},
     "output_type": "display_data"
    }
   ],
   "source": [
    "# 实际上这里预测的不逾期的概率， 为了是这里看起来正常， 统统用1减\n",
    "# train\n",
    "plot_confusion_matrix(1-y_train.values.ravel(), 1-t_train_pred, [0,1])"
   ]
  },
  {
   "cell_type": "code",
   "execution_count": 168,
   "metadata": {},
   "outputs": [
    {
     "name": "stdout",
     "output_type": "stream",
     "text": [
      "++++++++++++++++++++++++++++++++++\n",
      "AUC:  0.7637526812331854\n",
      "Recall:  0.625\n",
      "Precision:  0.12022630834512023\n",
      "Accyracy:  0.7374170893484199\n",
      "++++++++++++++++++++++++++++++++++\n"
     ]
    },
    {
     "data": {
      "image/png": "[encoded data removed]",
      "text/plain": [
       "<Figure size 432x288 with 2 Axes>"
      ]
     },
     "metadata": {},
     "output_type": "display_data"
    }
   ],
   "source": [
    "# 测试\n",
    "plot_confusion_matrix(1-y_test.values.ravel(), 1-y_test_pred, [0,1])"
   ]
  },
  {
   "cell_type": "code",
   "execution_count": 172,
   "metadata": {},
   "outputs": [
    {
     "data": {
      "image/png": "[encoded data removed]",
      "text/plain": [
       "<Figure size 432x288 with 1 Axes>"
      ]
     },
     "metadata": {},
     "output_type": "display_data"
    }
   ],
   "source": [
    "df_ks1,_ = ks_stats(y_train.values.ravel(), t_train_pred)"
   ]
  },
  {
   "cell_type": "code",
   "execution_count": 174,
   "metadata": {},
   "outputs": [
    {
     "data": {
      "image/png": "[encoded data removed]",
      "text/plain": [
       "<Figure size 432x288 with 1 Axes>"
      ]
     },
     "metadata": {},
     "output_type": "display_data"
    }
   ],
   "source": [
    "df_ks2,_ = ks_stats(y_test.values.ravel(), y_test_pred)"
   ]
  },
  {
   "cell_type": "code",
   "execution_count": 177,
   "metadata": {},
   "outputs": [
    {
     "data": {
      "image/png": "[encoded data removed]",
      "text/plain": [
       "<Figure size 432x288 with 1 Axes>"
      ]
     },
     "metadata": {},
     "output_type": "display_data"
    }
   ],
   "source": [
    "plot_roc_curve(y_train.values.ravel(), y_train_pred)"
   ]
  },
  {
   "cell_type": "code",
   "execution_count": 178,
   "metadata": {},
   "outputs": [
    {
     "data": {
      "image/png": "[encoded data removed]",
      "text/plain": [
       "<Figure size 432x288 with 1 Axes>"
      ]
     },
     "metadata": {},
     "output_type": "display_data"
    }
   ],
   "source": [
    "plot_roc_curve(y_test.values.ravel(), y_test_pred)"
   ]
  },
  {
   "cell_type": "markdown",
   "metadata": {},
   "source": [
    "## 生成評分卡"
   ]
  },
  {
   "cell_type": "code",
   "execution_count": 140,
   "metadata": {},
   "outputs": [],
   "source": [
    "def _score_cal(basepoints, odds, PDO):\n",
    "    \"\"\"\n",
    "    cal alpha&beta for score formula, \n",
    "    score = alpha + beta * log(odds)\n",
    "    ---------------------------------------\n",
    "    Params\n",
    "    basepoints: expect base points\n",
    "    odds: cal by logit model\n",
    "    PDO: points of double odds  \n",
    "    ---------------------------------------\n",
    "    Return\n",
    "    alpha, beta \n",
    "    \"\"\"\n",
    "    beta = PDO/np.log(2)  \n",
    "    alpha = basepoints - beta*np.log(odds)\n",
    "    return alpha, beta"
   ]
  },
  {
   "cell_type": "code",
   "execution_count": 141,
   "metadata": {},
   "outputs": [],
   "source": [
    "# 按好坏比15为600分，每高20分好坏比翻一倍算出P,Q。\n",
    "basepoint = 600\n",
    "PDO = 20\n",
    "odds = 15\n",
    "q, p = _score_cal(basepoint, odds, PDO)"
   ]
  },
  {
   "cell_type": "code",
   "execution_count": 142,
   "metadata": {},
   "outputs": [
    {
     "data": {
      "text/plain": [
       "28.85390081777927"
      ]
     },
     "execution_count": 142,
     "metadata": {},
     "output_type": "execute_result"
    }
   ],
   "source": [
    "p"
   ]
  },
  {
   "cell_type": "code",
   "execution_count": 143,
   "metadata": {},
   "outputs": [
    {
     "data": {
      "text/plain": [
       "521.8621880878296"
      ]
     },
     "execution_count": 143,
     "metadata": {},
     "output_type": "execute_result"
    }
   ],
   "source": [
    "q"
   ]
  },
  {
   "cell_type": "code",
   "execution_count": 144,
   "metadata": {},
   "outputs": [],
   "source": [
    "# 截距\n",
    "b = lr.intercept_[0]"
   ]
  },
  {
   "cell_type": "code",
   "execution_count": 145,
   "metadata": {},
   "outputs": [
    {
     "data": {
      "text/plain": [
       "array([[-0.29584807,  0.54280927,  2.39511878,  0.41589819,  0.42358303,\n",
       "         0.38722572,  0.74138883,  1.78023522,  0.31475698,  0.0432108 ,\n",
       "         0.33871977,  0.28624197,  0.70040608,  0.30585221,  0.54931767,\n",
       "         0.59189128,  0.1204513 ,  0.19962774,  0.18233787,  0.14103248,\n",
       "         0.64499251, -0.00860121,  0.17154403]])"
      ]
     },
     "execution_count": 145,
     "metadata": {},
     "output_type": "execute_result"
    }
   ],
   "source": [
    "# 系数\n",
    "lr.coef_"
   ]
  },
  {
   "cell_type": "code",
   "execution_count": 146,
   "metadata": {},
   "outputs": [
    {
     "data": {
      "text/plain": [
       "0.10093549155888955"
      ]
     },
     "execution_count": 146,
     "metadata": {},
     "output_type": "execute_result"
    }
   ],
   "source": [
    "b"
   ]
  },
  {
   "cell_type": "code",
   "execution_count": 147,
   "metadata": {},
   "outputs": [],
   "source": [
    "base_score = q + p * b"
   ]
  },
  {
   "cell_type": "code",
   "execution_count": 148,
   "metadata": {},
   "outputs": [
    {
     "data": {
      "text/plain": [
       "524.7745707502636"
      ]
     },
     "execution_count": 148,
     "metadata": {},
     "output_type": "execute_result"
    }
   ],
   "source": [
    "base_score"
   ]
  },
  {
   "cell_type": "code",
   "execution_count": 149,
   "metadata": {},
   "outputs": [],
   "source": [
    "# 测试样本的B卡得分\n",
    "test_score = np.dot(x_test.values, lr.coef_.ravel()) * p + q"
   ]
  },
  {
   "cell_type": "code",
   "execution_count": 150,
   "metadata": {},
   "outputs": [],
   "source": [
    "test_score_df = pd.DataFrame({'customer_id': test_id, 'score':test_score, 'isBad': y_test.values.ravel()})\n",
    "test_score_df.to_csv('TEST_SCORE.csv', index=False)"
   ]
  },
  {
   "cell_type": "code",
   "execution_count": 151,
   "metadata": {},
   "outputs": [
    {
     "data": {
      "image/png": "[encoded data removed]",
      "text/plain": [
       "<Figure size 432x288 with 1 Axes>"
      ]
     },
     "metadata": {},
     "output_type": "display_data"
    }
   ],
   "source": [
    "# 同上\n",
    "df_ks,_ = ks_stats(1-y_test.values.ravel(), 1-test_score)"
   ]
  },
  {
   "cell_type": "code",
   "execution_count": 152,
   "metadata": {
    "scrolled": false
   },
   "outputs": [
    {
     "data": {
      "text/html": [
       "<div>\n",
       "<style scoped>\n",
       "    .dataframe tbody tr th:only-of-type {\n",
       "        vertical-align: middle;\n",
       "    }\n",
       "\n",
       "    .dataframe tbody tr th {\n",
       "        vertical-align: top;\n",
       "    }\n",
       "\n",
       "    .dataframe thead th {\n",
       "        text-align: right;\n",
       "    }\n",
       "</style>\n",
       "<table border=\"1\" class=\"dataframe\">\n",
       "  <thead>\n",
       "    <tr style=\"text-align: right;\">\n",
       "      <th></th>\n",
       "      <th>interval</th>\n",
       "      <th>total</th>\n",
       "      <th>bad</th>\n",
       "      <th>good</th>\n",
       "      <th>bad_pct</th>\n",
       "      <th>good_pct</th>\n",
       "      <th>PctRec</th>\n",
       "      <th>WOE</th>\n",
       "      <th>ori_iv</th>\n",
       "      <th>sum_iv</th>\n",
       "      <th>var_name</th>\n",
       "    </tr>\n",
       "  </thead>\n",
       "  <tbody>\n",
       "    <tr>\n",
       "      <th>0</th>\n",
       "      <td>(22, 28)</td>\n",
       "      <td>3532</td>\n",
       "      <td>339</td>\n",
       "      <td>3193</td>\n",
       "      <td>0.240255</td>\n",
       "      <td>0.188589</td>\n",
       "      <td>0.192564</td>\n",
       "      <td>-0.246285</td>\n",
       "      <td>0.012725</td>\n",
       "      <td>0.017458</td>\n",
       "      <td>age</td>\n",
       "    </tr>\n",
       "    <tr>\n",
       "      <th>1</th>\n",
       "      <td>(28, 36)</td>\n",
       "      <td>7059</td>\n",
       "      <td>519</td>\n",
       "      <td>6540</td>\n",
       "      <td>0.367824</td>\n",
       "      <td>0.386274</td>\n",
       "      <td>0.384854</td>\n",
       "      <td>0.046226</td>\n",
       "      <td>0.000853</td>\n",
       "      <td>0.017458</td>\n",
       "      <td>age</td>\n",
       "    </tr>\n",
       "    <tr>\n",
       "      <th>2</th>\n",
       "      <td>(36, 44)</td>\n",
       "      <td>4756</td>\n",
       "      <td>325</td>\n",
       "      <td>4431</td>\n",
       "      <td>0.230333</td>\n",
       "      <td>0.261709</td>\n",
       "      <td>0.259296</td>\n",
       "      <td>0.123376</td>\n",
       "      <td>0.003871</td>\n",
       "      <td>0.017458</td>\n",
       "      <td>age</td>\n",
       "    </tr>\n",
       "    <tr>\n",
       "      <th>3</th>\n",
       "      <td>(44, inf)</td>\n",
       "      <td>2995</td>\n",
       "      <td>228</td>\n",
       "      <td>2767</td>\n",
       "      <td>0.161588</td>\n",
       "      <td>0.163428</td>\n",
       "      <td>0.163286</td>\n",
       "      <td>0.005156</td>\n",
       "      <td>0.000009</td>\n",
       "      <td>0.017458</td>\n",
       "      <td>age</td>\n",
       "    </tr>\n",
       "    <tr>\n",
       "      <th>0</th>\n",
       "      <td>1</td>\n",
       "      <td>7881</td>\n",
       "      <td>852</td>\n",
       "      <td>7029</td>\n",
       "      <td>0.603827</td>\n",
       "      <td>0.415156</td>\n",
       "      <td>0.429670</td>\n",
       "      <td>-0.376289</td>\n",
       "      <td>0.070995</td>\n",
       "      <td>0.144006</td>\n",
       "      <td>gender</td>\n",
       "    </tr>\n",
       "  </tbody>\n",
       "</table>\n",
       "</div>"
      ],
      "text/plain": [
       "    interval  total  bad  good   bad_pct  good_pct    PctRec       WOE  \\\n",
       "0   (22, 28)   3532  339  3193  0.240255  0.188589  0.192564 -0.246285   \n",
       "1   (28, 36)   7059  519  6540  0.367824  0.386274  0.384854  0.046226   \n",
       "2   (36, 44)   4756  325  4431  0.230333  0.261709  0.259296  0.123376   \n",
       "3  (44, inf)   2995  228  2767  0.161588  0.163428  0.163286  0.005156   \n",
       "0          1   7881  852  7029  0.603827  0.415156  0.429670 -0.376289   \n",
       "\n",
       "     ori_iv    sum_iv var_name  \n",
       "0  0.012725  0.017458      age  \n",
       "1  0.000853  0.017458      age  \n",
       "2  0.003871  0.017458      age  \n",
       "3  0.000009  0.017458      age  \n",
       "0  0.070995  0.144006   gender  "
      ]
     },
     "execution_count": 152,
     "metadata": {},
     "output_type": "execute_result"
    }
   ],
   "source": [
    "# 生成评分卡\n",
    "woe_df.head()"
   ]
  },
  {
   "cell_type": "code",
   "execution_count": 153,
   "metadata": {},
   "outputs": [],
   "source": [
    "coef_dict = dict(zip(list(x_train.columns), list(lr.coef_.ravel())))"
   ]
  },
  {
   "cell_type": "code",
   "execution_count": 154,
   "metadata": {},
   "outputs": [
    {
     "data": {
      "text/plain": [
       "{'age_woe': -0.29584807380907885,\n",
       " 'gender_woe': 0.5428092684031416,\n",
       " 'ever_bind_card_num_woe': 2.3951187762258535,\n",
       " '手机归属本外地_woe': 0.41589818858344196,\n",
       " '工作地城市等级_woe': 0.42358302922187124,\n",
       " '营业厅城市等级_woe': 0.3872257212409813,\n",
       " 'v1_woe': 0.7413888293610755,\n",
       " 'v13_woe': 1.7802352196450792,\n",
       " 'v15_woe': 0.3147569762495594,\n",
       " 'v16_woe': 0.04321079623778148,\n",
       " 'v17_woe': 0.3387197728219504,\n",
       " 'v18_woe': 0.28624197231549026,\n",
       " 'v20_woe': 0.7004060817998133,\n",
       " 'v21_woe': 0.3058522076305581,\n",
       " 'v22_woe': 0.5493176722238814,\n",
       " 'v23_woe': 0.5918912849789766,\n",
       " 'contacts_class1_blacklist_cnt_woe': 0.12045129649118969,\n",
       " 'contacts_class2_blacklist_cnt_woe': 0.19962773684004442,\n",
       " 'contacts_router_cnt_woe': 0.1823378676997497,\n",
       " 'contacts_router_ratio_woe': 0.1410324798607833,\n",
       " 'phone_applied_org_cnt_woe': 0.6449925090905219,\n",
       " 'phone_gray_score_woe': -0.008601211588235633,\n",
       " 'user_searched_history_by_orgs_90_woe': 0.1715440296915046}"
      ]
     },
     "execution_count": 154,
     "metadata": {},
     "output_type": "execute_result"
    }
   ],
   "source": [
    "coef_dict"
   ]
  },
  {
   "cell_type": "code",
   "execution_count": 155,
   "metadata": {},
   "outputs": [],
   "source": [
    "woe_df['score'] = woe_df.apply(lambda row: row['WOE'] * p * coef_dict['%s_woe' % row['var_name']], axis=1)"
   ]
  },
  {
   "cell_type": "code",
   "execution_count": 160,
   "metadata": {},
   "outputs": [],
   "source": [
    "woe_df.to_csv('SCORE.csv', index=False, encoding='gbk')"
   ]
  },
  {
   "cell_type": "code",
   "execution_count": 159,
   "metadata": {},
   "outputs": [
    {
     "data": {
      "text/plain": [
       "<matplotlib.axes._subplots.AxesSubplot at 0x29ad07bd198>"
      ]
     },
     "execution_count": 159,
     "metadata": {},
     "output_type": "execute_result"
    },
    {
     "data": {
      "image/png": "[encoded data removed]",
      "text/plain": [
       "<Figure size 432x288 with 1 Axes>"
      ]
     },
     "metadata": {},
     "output_type": "display_data"
    }
   ],
   "source": [
    "sns.kdeplot(test_score_df[test_score_df['isBad']==0]['score'])\n",
    "sns.kdeplot(test_score_df[test_score_df['isBad']==1]['score'])"
   ]
  }
 ],
 "metadata": {
  "kernelspec": {
   "display_name": "Python 3",
   "language": "python",
   "name": "python3"
  },
  "language_info": {
   "codemirror_mode": {
    "name": "ipython",
    "version": 3
   },
   "file_extension": ".py",
   "mimetype": "text/x-python",
   "name": "python",
   "nbconvert_exporter": "python",
   "pygments_lexer": "ipython3",
   "version": "3.6.5"
  }
 },
 "nbformat": 4,
 "nbformat_minor": 2
}
