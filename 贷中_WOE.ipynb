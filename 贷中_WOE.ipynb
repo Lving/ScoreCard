{
 "cells": [
  {
   "cell_type": "code",
   "execution_count": 1,
   "metadata": {
    "collapsed": true
   },
   "outputs": [],
   "source": [
    "import pandas as pd \n",
    "import numpy as np\n",
    "import seaborn as sns\n",
    "%matplotlib inline\n",
    "\n",
    "from utils import ChiMerge_MaxInterval_Original, CalcWOE, AssignBin, calcCut\n",
    "from model_test import *"
   ]
  },
  {
   "cell_type": "markdown",
   "metadata": {},
   "source": [
    "### ChiMerge_MaxInterval_Original 初分箱后，人工合并"
   ]
  },
  {
   "cell_type": "code",
   "execution_count": 2,
   "metadata": {
    "collapsed": true
   },
   "outputs": [],
   "source": [
    "data = pd.read_csv('data/贷中数据2.csv', engine='python')\n",
    "data1 = data.copy()"
   ]
  },
  {
   "cell_type": "code",
   "execution_count": 3,
   "metadata": {
    "collapsed": true
   },
   "outputs": [],
   "source": [
    "# 跟据bad_pct 单调性， 分箱占比，iv人工优化后的分箱指标\n",
    "cutpoint = {\n",
    "    'quota': [19700, 24800, 30000, 49700],\n",
    "    'ratio_interest_loan': [0.1, 0.3],\n",
    "    'pct_pre_repay': [0.4, 0.5, 0.7, 0.9],\n",
    "    'repay_nums_overdue': [4, 6, 10, 22],\n",
    "#     'pct_due_repay': [0.1, 0.5, 0.6, 0.9],  和pct_pre_repay强相关\n",
    "    'repay_nums_pre': [1, 10, 17, 45],\n",
    "    'ratio_interest_loan': [0.3],\n",
    "    'repay_nums_due': [1, 7, 36],\n",
    "    'ratio_loan_quota': [1.9, 2, 4.6],\n",
    "    'M0_nums': [1, 2, 3, 5],\n",
    "    'pct_morning_repay': [0.1, 0.4, 0.9],\n",
    "    'pct_night_repay': [0.2, 0.4, 0.5, 0.9],\n",
    "    'repay_nums_Dawn': [2,3,6,10,14],\n",
    "    'life_long_days': [130, 281, 431,561],\n",
    "    'pct_afternoon_loan': [0.1, 0.4, 0.9],\n",
    "    \n",
    "}"
   ]
  },
  {
   "cell_type": "code",
   "execution_count": 4,
   "metadata": {},
   "outputs": [
    {
     "data": {
      "text/html": [
       "<div>\n",
       "<style>\n",
       "    .dataframe thead tr:only-child th {\n",
       "        text-align: right;\n",
       "    }\n",
       "\n",
       "    .dataframe thead th {\n",
       "        text-align: left;\n",
       "    }\n",
       "\n",
       "    .dataframe tbody tr th {\n",
       "        vertical-align: top;\n",
       "    }\n",
       "</style>\n",
       "<table border=\"1\" class=\"dataframe\">\n",
       "  <thead>\n",
       "    <tr style=\"text-align: right;\">\n",
       "      <th></th>\n",
       "      <th>quota</th>\n",
       "      <th>ratio_interest_loan</th>\n",
       "      <th>pct_pre_repay</th>\n",
       "      <th>repay_nums_overdue</th>\n",
       "      <th>repay_nums_pre</th>\n",
       "      <th>repay_nums_due</th>\n",
       "      <th>ratio_loan_quota</th>\n",
       "      <th>M0_nums</th>\n",
       "      <th>pct_morning_repay</th>\n",
       "      <th>pct_night_repay</th>\n",
       "      <th>repay_nums_Dawn</th>\n",
       "      <th>life_long_days</th>\n",
       "      <th>pct_afternoon_loan</th>\n",
       "    </tr>\n",
       "  </thead>\n",
       "  <tbody>\n",
       "    <tr>\n",
       "      <th>quota</th>\n",
       "      <td>1.000000</td>\n",
       "      <td>-0.304600</td>\n",
       "      <td>0.144624</td>\n",
       "      <td>-0.120587</td>\n",
       "      <td>0.158804</td>\n",
       "      <td>0.037360</td>\n",
       "      <td>-0.089064</td>\n",
       "      <td>-0.134058</td>\n",
       "      <td>-0.003605</td>\n",
       "      <td>0.015797</td>\n",
       "      <td>0.002838</td>\n",
       "      <td>-0.201019</td>\n",
       "      <td>0.032340</td>\n",
       "    </tr>\n",
       "    <tr>\n",
       "      <th>ratio_interest_loan</th>\n",
       "      <td>-0.304600</td>\n",
       "      <td>1.000000</td>\n",
       "      <td>-0.588439</td>\n",
       "      <td>0.410528</td>\n",
       "      <td>-0.035202</td>\n",
       "      <td>0.461008</td>\n",
       "      <td>0.091888</td>\n",
       "      <td>0.300626</td>\n",
       "      <td>0.178177</td>\n",
       "      <td>-0.134963</td>\n",
       "      <td>0.159517</td>\n",
       "      <td>0.377023</td>\n",
       "      <td>-0.018409</td>\n",
       "    </tr>\n",
       "    <tr>\n",
       "      <th>pct_pre_repay</th>\n",
       "      <td>0.144624</td>\n",
       "      <td>-0.588439</td>\n",
       "      <td>1.000000</td>\n",
       "      <td>-0.303638</td>\n",
       "      <td>0.403679</td>\n",
       "      <td>-0.380089</td>\n",
       "      <td>0.367322</td>\n",
       "      <td>-0.235633</td>\n",
       "      <td>-0.486391</td>\n",
       "      <td>0.348053</td>\n",
       "      <td>-0.020157</td>\n",
       "      <td>-0.106745</td>\n",
       "      <td>0.003294</td>\n",
       "    </tr>\n",
       "    <tr>\n",
       "      <th>repay_nums_overdue</th>\n",
       "      <td>-0.120587</td>\n",
       "      <td>0.410528</td>\n",
       "      <td>-0.303638</td>\n",
       "      <td>1.000000</td>\n",
       "      <td>0.007936</td>\n",
       "      <td>0.311583</td>\n",
       "      <td>-0.063256</td>\n",
       "      <td>0.561988</td>\n",
       "      <td>-0.056856</td>\n",
       "      <td>-0.022877</td>\n",
       "      <td>0.348971</td>\n",
       "      <td>0.199838</td>\n",
       "      <td>-0.023999</td>\n",
       "    </tr>\n",
       "    <tr>\n",
       "      <th>repay_nums_pre</th>\n",
       "      <td>0.158804</td>\n",
       "      <td>-0.035202</td>\n",
       "      <td>0.403679</td>\n",
       "      <td>0.007936</td>\n",
       "      <td>1.000000</td>\n",
       "      <td>0.311536</td>\n",
       "      <td>0.571387</td>\n",
       "      <td>-0.069031</td>\n",
       "      <td>-0.189668</td>\n",
       "      <td>0.180299</td>\n",
       "      <td>0.324392</td>\n",
       "      <td>0.191168</td>\n",
       "      <td>-0.022485</td>\n",
       "    </tr>\n",
       "    <tr>\n",
       "      <th>repay_nums_due</th>\n",
       "      <td>0.037360</td>\n",
       "      <td>0.461008</td>\n",
       "      <td>-0.380089</td>\n",
       "      <td>0.311583</td>\n",
       "      <td>0.311536</td>\n",
       "      <td>1.000000</td>\n",
       "      <td>0.006599</td>\n",
       "      <td>0.171884</td>\n",
       "      <td>0.256363</td>\n",
       "      <td>-0.128703</td>\n",
       "      <td>0.303000</td>\n",
       "      <td>0.285334</td>\n",
       "      <td>-0.031687</td>\n",
       "    </tr>\n",
       "    <tr>\n",
       "      <th>ratio_loan_quota</th>\n",
       "      <td>-0.089064</td>\n",
       "      <td>0.091888</td>\n",
       "      <td>0.367322</td>\n",
       "      <td>-0.063256</td>\n",
       "      <td>0.571387</td>\n",
       "      <td>0.006599</td>\n",
       "      <td>1.000000</td>\n",
       "      <td>-0.055994</td>\n",
       "      <td>-0.241998</td>\n",
       "      <td>0.200713</td>\n",
       "      <td>0.082353</td>\n",
       "      <td>0.132597</td>\n",
       "      <td>0.001566</td>\n",
       "    </tr>\n",
       "    <tr>\n",
       "      <th>M0_nums</th>\n",
       "      <td>-0.134058</td>\n",
       "      <td>0.300626</td>\n",
       "      <td>-0.235633</td>\n",
       "      <td>0.561988</td>\n",
       "      <td>-0.069031</td>\n",
       "      <td>0.171884</td>\n",
       "      <td>-0.055994</td>\n",
       "      <td>1.000000</td>\n",
       "      <td>-0.010177</td>\n",
       "      <td>-0.036481</td>\n",
       "      <td>0.140785</td>\n",
       "      <td>0.088001</td>\n",
       "      <td>-0.019233</td>\n",
       "    </tr>\n",
       "    <tr>\n",
       "      <th>pct_morning_repay</th>\n",
       "      <td>-0.003605</td>\n",
       "      <td>0.178177</td>\n",
       "      <td>-0.486391</td>\n",
       "      <td>-0.056856</td>\n",
       "      <td>-0.189668</td>\n",
       "      <td>0.256363</td>\n",
       "      <td>-0.241998</td>\n",
       "      <td>-0.010177</td>\n",
       "      <td>1.000000</td>\n",
       "      <td>-0.532492</td>\n",
       "      <td>-0.084193</td>\n",
       "      <td>-0.086547</td>\n",
       "      <td>-0.054937</td>\n",
       "    </tr>\n",
       "    <tr>\n",
       "      <th>pct_night_repay</th>\n",
       "      <td>0.015797</td>\n",
       "      <td>-0.134963</td>\n",
       "      <td>0.348053</td>\n",
       "      <td>-0.022877</td>\n",
       "      <td>0.180299</td>\n",
       "      <td>-0.128703</td>\n",
       "      <td>0.200713</td>\n",
       "      <td>-0.036481</td>\n",
       "      <td>-0.532492</td>\n",
       "      <td>1.000000</td>\n",
       "      <td>-0.000304</td>\n",
       "      <td>0.107941</td>\n",
       "      <td>-0.027190</td>\n",
       "    </tr>\n",
       "    <tr>\n",
       "      <th>repay_nums_Dawn</th>\n",
       "      <td>0.002838</td>\n",
       "      <td>0.159517</td>\n",
       "      <td>-0.020157</td>\n",
       "      <td>0.348971</td>\n",
       "      <td>0.324392</td>\n",
       "      <td>0.303000</td>\n",
       "      <td>0.082353</td>\n",
       "      <td>0.140785</td>\n",
       "      <td>-0.084193</td>\n",
       "      <td>-0.000304</td>\n",
       "      <td>1.000000</td>\n",
       "      <td>0.126771</td>\n",
       "      <td>-0.043034</td>\n",
       "    </tr>\n",
       "    <tr>\n",
       "      <th>life_long_days</th>\n",
       "      <td>-0.201019</td>\n",
       "      <td>0.377023</td>\n",
       "      <td>-0.106745</td>\n",
       "      <td>0.199838</td>\n",
       "      <td>0.191168</td>\n",
       "      <td>0.285334</td>\n",
       "      <td>0.132597</td>\n",
       "      <td>0.088001</td>\n",
       "      <td>-0.086547</td>\n",
       "      <td>0.107941</td>\n",
       "      <td>0.126771</td>\n",
       "      <td>1.000000</td>\n",
       "      <td>-0.037324</td>\n",
       "    </tr>\n",
       "    <tr>\n",
       "      <th>pct_afternoon_loan</th>\n",
       "      <td>0.032340</td>\n",
       "      <td>-0.018409</td>\n",
       "      <td>0.003294</td>\n",
       "      <td>-0.023999</td>\n",
       "      <td>-0.022485</td>\n",
       "      <td>-0.031687</td>\n",
       "      <td>0.001566</td>\n",
       "      <td>-0.019233</td>\n",
       "      <td>-0.054937</td>\n",
       "      <td>-0.027190</td>\n",
       "      <td>-0.043034</td>\n",
       "      <td>-0.037324</td>\n",
       "      <td>1.000000</td>\n",
       "    </tr>\n",
       "  </tbody>\n",
       "</table>\n",
       "</div>"
      ],
      "text/plain": [
       "                        quota  ratio_interest_loan  pct_pre_repay  \\\n",
       "quota                1.000000            -0.304600       0.144624   \n",
       "ratio_interest_loan -0.304600             1.000000      -0.588439   \n",
       "pct_pre_repay        0.144624            -0.588439       1.000000   \n",
       "repay_nums_overdue  -0.120587             0.410528      -0.303638   \n",
       "repay_nums_pre       0.158804            -0.035202       0.403679   \n",
       "repay_nums_due       0.037360             0.461008      -0.380089   \n",
       "ratio_loan_quota    -0.089064             0.091888       0.367322   \n",
       "M0_nums             -0.134058             0.300626      -0.235633   \n",
       "pct_morning_repay   -0.003605             0.178177      -0.486391   \n",
       "pct_night_repay      0.015797            -0.134963       0.348053   \n",
       "repay_nums_Dawn      0.002838             0.159517      -0.020157   \n",
       "life_long_days      -0.201019             0.377023      -0.106745   \n",
       "pct_afternoon_loan   0.032340            -0.018409       0.003294   \n",
       "\n",
       "                     repay_nums_overdue  repay_nums_pre  repay_nums_due  \\\n",
       "quota                         -0.120587        0.158804        0.037360   \n",
       "ratio_interest_loan            0.410528       -0.035202        0.461008   \n",
       "pct_pre_repay                 -0.303638        0.403679       -0.380089   \n",
       "repay_nums_overdue             1.000000        0.007936        0.311583   \n",
       "repay_nums_pre                 0.007936        1.000000        0.311536   \n",
       "repay_nums_due                 0.311583        0.311536        1.000000   \n",
       "ratio_loan_quota              -0.063256        0.571387        0.006599   \n",
       "M0_nums                        0.561988       -0.069031        0.171884   \n",
       "pct_morning_repay             -0.056856       -0.189668        0.256363   \n",
       "pct_night_repay               -0.022877        0.180299       -0.128703   \n",
       "repay_nums_Dawn                0.348971        0.324392        0.303000   \n",
       "life_long_days                 0.199838        0.191168        0.285334   \n",
       "pct_afternoon_loan            -0.023999       -0.022485       -0.031687   \n",
       "\n",
       "                     ratio_loan_quota   M0_nums  pct_morning_repay  \\\n",
       "quota                       -0.089064 -0.134058          -0.003605   \n",
       "ratio_interest_loan          0.091888  0.300626           0.178177   \n",
       "pct_pre_repay                0.367322 -0.235633          -0.486391   \n",
       "repay_nums_overdue          -0.063256  0.561988          -0.056856   \n",
       "repay_nums_pre               0.571387 -0.069031          -0.189668   \n",
       "repay_nums_due               0.006599  0.171884           0.256363   \n",
       "ratio_loan_quota             1.000000 -0.055994          -0.241998   \n",
       "M0_nums                     -0.055994  1.000000          -0.010177   \n",
       "pct_morning_repay           -0.241998 -0.010177           1.000000   \n",
       "pct_night_repay              0.200713 -0.036481          -0.532492   \n",
       "repay_nums_Dawn              0.082353  0.140785          -0.084193   \n",
       "life_long_days               0.132597  0.088001          -0.086547   \n",
       "pct_afternoon_loan           0.001566 -0.019233          -0.054937   \n",
       "\n",
       "                     pct_night_repay  repay_nums_Dawn  life_long_days  \\\n",
       "quota                       0.015797         0.002838       -0.201019   \n",
       "ratio_interest_loan        -0.134963         0.159517        0.377023   \n",
       "pct_pre_repay               0.348053        -0.020157       -0.106745   \n",
       "repay_nums_overdue         -0.022877         0.348971        0.199838   \n",
       "repay_nums_pre              0.180299         0.324392        0.191168   \n",
       "repay_nums_due             -0.128703         0.303000        0.285334   \n",
       "ratio_loan_quota            0.200713         0.082353        0.132597   \n",
       "M0_nums                    -0.036481         0.140785        0.088001   \n",
       "pct_morning_repay          -0.532492        -0.084193       -0.086547   \n",
       "pct_night_repay             1.000000        -0.000304        0.107941   \n",
       "repay_nums_Dawn            -0.000304         1.000000        0.126771   \n",
       "life_long_days              0.107941         0.126771        1.000000   \n",
       "pct_afternoon_loan         -0.027190        -0.043034       -0.037324   \n",
       "\n",
       "                     pct_afternoon_loan  \n",
       "quota                          0.032340  \n",
       "ratio_interest_loan           -0.018409  \n",
       "pct_pre_repay                  0.003294  \n",
       "repay_nums_overdue            -0.023999  \n",
       "repay_nums_pre                -0.022485  \n",
       "repay_nums_due                -0.031687  \n",
       "ratio_loan_quota               0.001566  \n",
       "M0_nums                       -0.019233  \n",
       "pct_morning_repay             -0.054937  \n",
       "pct_night_repay               -0.027190  \n",
       "repay_nums_Dawn               -0.043034  \n",
       "life_long_days                -0.037324  \n",
       "pct_afternoon_loan             1.000000  "
      ]
     },
     "execution_count": 4,
     "metadata": {},
     "output_type": "execute_result"
    }
   ],
   "source": [
    "# 看一下相关性\n",
    "data1[list(cutpoint.keys())].corr()"
   ]
  },
  {
   "cell_type": "code",
   "execution_count": 5,
   "metadata": {
    "collapsed": true
   },
   "outputs": [],
   "source": [
    "woe_dfs = []  # 字段的woe及详情， dataframe\n",
    "discrete_dfs = []  # cut后的离散表\n",
    "woe_dict = {}  # 字段的woe， dict， 便于转换\n",
    "for c, p in cutpoint.items():\n",
    "    df_woe_info, df_woe_cut = calcCut(data1, c, 'isBad', p, 'dataframe')\n",
    "    dict_woe_info, _ = calcCut(data1, c, 'isBad', p, 'dict')\n",
    "    \n",
    "    df_woe_info['var_name'] = c\n",
    "    woe_dfs.append(df_woe_info)\n",
    "    \n",
    "    woe_dict[c] = dict_woe_info\n",
    "    # df_woe_cut 中有isBad 先删除\n",
    "    df_woe_cut = df_woe_cut.drop(['isBad'], axis=1)  # 按行拼接\n",
    "    discrete_dfs.append(df_woe_cut)  # 按列拼接"
   ]
  },
  {
   "cell_type": "code",
   "execution_count": 6,
   "metadata": {
    "collapsed": true
   },
   "outputs": [],
   "source": [
    "woe_info = pd.concat(woe_dfs)"
   ]
  },
  {
   "cell_type": "code",
   "execution_count": 7,
   "metadata": {
    "collapsed": true
   },
   "outputs": [],
   "source": [
    "discrete_data = pd.concat(discrete_dfs,axis=1)\n",
    "discrete_data['isBad'] = data1['isBad']\n",
    "discrete_data['customer_id'] = data1['customer_id']"
   ]
  },
  {
   "cell_type": "code",
   "execution_count": 8,
   "metadata": {},
   "outputs": [
    {
     "data": {
      "text/plain": [
       "{'CUTPOINTS': [0, 130, 281, 431, 561, inf],\n",
       " 'IV': 0.022600086369981436,\n",
       " 'WOE': {'(0, 130)': {'WOE': 0.36107623120658966},\n",
       "  '(130, 281)': {'WOE': -0.020486590012880106},\n",
       "  '(281, 431)': {'WOE': -0.14825956034619181},\n",
       "  '(431, 561)': {'WOE': -0.024682398586532157},\n",
       "  '(561, inf)': {'WOE': -0.015334996652371294}}}"
      ]
     },
     "execution_count": 8,
     "metadata": {},
     "output_type": "execute_result"
    }
   ],
   "source": [
    "woe_dict['life_long_days']"
   ]
  },
  {
   "cell_type": "code",
   "execution_count": 9,
   "metadata": {
    "collapsed": true
   },
   "outputs": [],
   "source": [
    "discrete_data.to_csv('DATA_DISCRETE.csv', index=False)"
   ]
  },
  {
   "cell_type": "code",
   "execution_count": 10,
   "metadata": {
    "scrolled": false
   },
   "outputs": [
    {
     "data": {
      "text/html": [
       "<div>\n",
       "<style>\n",
       "    .dataframe thead tr:only-child th {\n",
       "        text-align: right;\n",
       "    }\n",
       "\n",
       "    .dataframe thead th {\n",
       "        text-align: left;\n",
       "    }\n",
       "\n",
       "    .dataframe tbody tr th {\n",
       "        vertical-align: top;\n",
       "    }\n",
       "</style>\n",
       "<table border=\"1\" class=\"dataframe\">\n",
       "  <thead>\n",
       "    <tr style=\"text-align: right;\">\n",
       "      <th></th>\n",
       "      <th>quota_Bins</th>\n",
       "      <th>ratio_interest_loan_Bins</th>\n",
       "      <th>pct_pre_repay_Bins</th>\n",
       "      <th>repay_nums_overdue_Bins</th>\n",
       "      <th>repay_nums_pre_Bins</th>\n",
       "      <th>repay_nums_due_Bins</th>\n",
       "      <th>ratio_loan_quota_Bins</th>\n",
       "      <th>M0_nums_Bins</th>\n",
       "      <th>pct_morning_repay_Bins</th>\n",
       "      <th>pct_night_repay_Bins</th>\n",
       "      <th>repay_nums_Dawn_Bins</th>\n",
       "      <th>life_long_days_Bins</th>\n",
       "      <th>pct_afternoon_loan_Bins</th>\n",
       "      <th>isBad</th>\n",
       "      <th>customer_id</th>\n",
       "    </tr>\n",
       "  </thead>\n",
       "  <tbody>\n",
       "    <tr>\n",
       "      <th>0</th>\n",
       "      <td>(49700, inf)</td>\n",
       "      <td>(0, 0.3)</td>\n",
       "      <td>(0.9, inf)</td>\n",
       "      <td>(0, 4)</td>\n",
       "      <td>(1, 10)</td>\n",
       "      <td>(0, 1)</td>\n",
       "      <td>(0, 1.9)</td>\n",
       "      <td>(0, 1)</td>\n",
       "      <td>(0.1, 0.4)</td>\n",
       "      <td>(0.2, 0.4)</td>\n",
       "      <td>(0, 2)</td>\n",
       "      <td>(561, inf)</td>\n",
       "      <td>(0.1, 0.4)</td>\n",
       "      <td>0.0</td>\n",
       "      <td>100010</td>\n",
       "    </tr>\n",
       "    <tr>\n",
       "      <th>1</th>\n",
       "      <td>(19700, 24800)</td>\n",
       "      <td>(0, 0.3)</td>\n",
       "      <td>(0.9, inf)</td>\n",
       "      <td>(0, 4)</td>\n",
       "      <td>(1, 10)</td>\n",
       "      <td>(0, 1)</td>\n",
       "      <td>(0, 1.9)</td>\n",
       "      <td>(0, 1)</td>\n",
       "      <td>(0.1, 0.4)</td>\n",
       "      <td>(0, 0.2)</td>\n",
       "      <td>(0, 2)</td>\n",
       "      <td>(561, inf)</td>\n",
       "      <td>(0.4, 0.9)</td>\n",
       "      <td>0.0</td>\n",
       "      <td>100011</td>\n",
       "    </tr>\n",
       "    <tr>\n",
       "      <th>2</th>\n",
       "      <td>(49700, inf)</td>\n",
       "      <td>(0, 0.3)</td>\n",
       "      <td>(0.5, 0.7)</td>\n",
       "      <td>(0, 4)</td>\n",
       "      <td>(10, 17)</td>\n",
       "      <td>(7, 36)</td>\n",
       "      <td>(2, 4.6)</td>\n",
       "      <td>(0, 1)</td>\n",
       "      <td>(0.4, 0.9)</td>\n",
       "      <td>(0, 0.2)</td>\n",
       "      <td>(0, 2)</td>\n",
       "      <td>(561, inf)</td>\n",
       "      <td>(0.1, 0.4)</td>\n",
       "      <td>0.0</td>\n",
       "      <td>100018</td>\n",
       "    </tr>\n",
       "    <tr>\n",
       "      <th>3</th>\n",
       "      <td>(0, 19700)</td>\n",
       "      <td>(0, 0.3)</td>\n",
       "      <td>(0.9, inf)</td>\n",
       "      <td>(0, 4)</td>\n",
       "      <td>(1, 10)</td>\n",
       "      <td>(0, 1)</td>\n",
       "      <td>(0, 1.9)</td>\n",
       "      <td>(0, 1)</td>\n",
       "      <td>(0.4, 0.9)</td>\n",
       "      <td>(0.5, 0.9)</td>\n",
       "      <td>(0, 2)</td>\n",
       "      <td>(561, inf)</td>\n",
       "      <td>(0.4, 0.9)</td>\n",
       "      <td>0.0</td>\n",
       "      <td>100021</td>\n",
       "    </tr>\n",
       "    <tr>\n",
       "      <th>4</th>\n",
       "      <td>(0, 19700)</td>\n",
       "      <td>(0, 0.3)</td>\n",
       "      <td>(0, 0.4)</td>\n",
       "      <td>(0, 4)</td>\n",
       "      <td>(1, 10)</td>\n",
       "      <td>(1, 7)</td>\n",
       "      <td>(0, 1.9)</td>\n",
       "      <td>(0, 1)</td>\n",
       "      <td>(0.4, 0.9)</td>\n",
       "      <td>(0.2, 0.4)</td>\n",
       "      <td>(0, 2)</td>\n",
       "      <td>(561, inf)</td>\n",
       "      <td>(0.4, 0.9)</td>\n",
       "      <td>0.0</td>\n",
       "      <td>100023</td>\n",
       "    </tr>\n",
       "  </tbody>\n",
       "</table>\n",
       "</div>"
      ],
      "text/plain": [
       "       quota_Bins ratio_interest_loan_Bins pct_pre_repay_Bins  \\\n",
       "0    (49700, inf)                 (0, 0.3)         (0.9, inf)   \n",
       "1  (19700, 24800)                 (0, 0.3)         (0.9, inf)   \n",
       "2    (49700, inf)                 (0, 0.3)         (0.5, 0.7)   \n",
       "3      (0, 19700)                 (0, 0.3)         (0.9, inf)   \n",
       "4      (0, 19700)                 (0, 0.3)           (0, 0.4)   \n",
       "\n",
       "  repay_nums_overdue_Bins repay_nums_pre_Bins repay_nums_due_Bins  \\\n",
       "0                  (0, 4)             (1, 10)              (0, 1)   \n",
       "1                  (0, 4)             (1, 10)              (0, 1)   \n",
       "2                  (0, 4)            (10, 17)             (7, 36)   \n",
       "3                  (0, 4)             (1, 10)              (0, 1)   \n",
       "4                  (0, 4)             (1, 10)              (1, 7)   \n",
       "\n",
       "  ratio_loan_quota_Bins M0_nums_Bins pct_morning_repay_Bins  \\\n",
       "0              (0, 1.9)       (0, 1)             (0.1, 0.4)   \n",
       "1              (0, 1.9)       (0, 1)             (0.1, 0.4)   \n",
       "2              (2, 4.6)       (0, 1)             (0.4, 0.9)   \n",
       "3              (0, 1.9)       (0, 1)             (0.4, 0.9)   \n",
       "4              (0, 1.9)       (0, 1)             (0.4, 0.9)   \n",
       "\n",
       "  pct_night_repay_Bins repay_nums_Dawn_Bins life_long_days_Bins  \\\n",
       "0           (0.2, 0.4)               (0, 2)          (561, inf)   \n",
       "1             (0, 0.2)               (0, 2)          (561, inf)   \n",
       "2             (0, 0.2)               (0, 2)          (561, inf)   \n",
       "3           (0.5, 0.9)               (0, 2)          (561, inf)   \n",
       "4           (0.2, 0.4)               (0, 2)          (561, inf)   \n",
       "\n",
       "  pct_afternoon_loan_Bins  isBad  customer_id  \n",
       "0              (0.1, 0.4)    0.0       100010  \n",
       "1              (0.4, 0.9)    0.0       100011  \n",
       "2              (0.1, 0.4)    0.0       100018  \n",
       "3              (0.4, 0.9)    0.0       100021  \n",
       "4              (0.4, 0.9)    0.0       100023  "
      ]
     },
     "execution_count": 10,
     "metadata": {},
     "output_type": "execute_result"
    }
   ],
   "source": [
    "discrete_data.head()  # 用于转换成woe值"
   ]
  },
  {
   "cell_type": "code",
   "execution_count": 11,
   "metadata": {},
   "outputs": [
    {
     "data": {
      "text/html": [
       "<div>\n",
       "<style>\n",
       "    .dataframe thead tr:only-child th {\n",
       "        text-align: right;\n",
       "    }\n",
       "\n",
       "    .dataframe thead th {\n",
       "        text-align: left;\n",
       "    }\n",
       "\n",
       "    .dataframe tbody tr th {\n",
       "        vertical-align: top;\n",
       "    }\n",
       "</style>\n",
       "<table border=\"1\" class=\"dataframe\">\n",
       "  <thead>\n",
       "    <tr style=\"text-align: right;\">\n",
       "      <th></th>\n",
       "      <th>interval</th>\n",
       "      <th>total</th>\n",
       "      <th>bad</th>\n",
       "      <th>good</th>\n",
       "      <th>bad_pct</th>\n",
       "      <th>good_pct</th>\n",
       "      <th>PctRec</th>\n",
       "      <th>WOE</th>\n",
       "      <th>ori_iv</th>\n",
       "      <th>sum_iv</th>\n",
       "      <th>var_name</th>\n",
       "    </tr>\n",
       "  </thead>\n",
       "  <tbody>\n",
       "    <tr>\n",
       "      <th>0</th>\n",
       "      <td>(0, 19700)</td>\n",
       "      <td>3844</td>\n",
       "      <td>498.0</td>\n",
       "      <td>3346.0</td>\n",
       "      <td>0.105912</td>\n",
       "      <td>0.065352</td>\n",
       "      <td>0.068763</td>\n",
       "      <td>-0.492228</td>\n",
       "      <td>0.019965</td>\n",
       "      <td>0.649829</td>\n",
       "      <td>quota</td>\n",
       "    </tr>\n",
       "    <tr>\n",
       "      <th>1</th>\n",
       "      <td>(19700, 24800)</td>\n",
       "      <td>5800</td>\n",
       "      <td>861.0</td>\n",
       "      <td>4939.0</td>\n",
       "      <td>0.183114</td>\n",
       "      <td>0.096465</td>\n",
       "      <td>0.103753</td>\n",
       "      <td>-0.646374</td>\n",
       "      <td>0.056007</td>\n",
       "      <td>0.649829</td>\n",
       "      <td>quota</td>\n",
       "    </tr>\n",
       "    <tr>\n",
       "      <th>2</th>\n",
       "      <td>(24800, 30000)</td>\n",
       "      <td>5941</td>\n",
       "      <td>873.0</td>\n",
       "      <td>5068.0</td>\n",
       "      <td>0.185666</td>\n",
       "      <td>0.098984</td>\n",
       "      <td>0.106275</td>\n",
       "      <td>-0.634357</td>\n",
       "      <td>0.054987</td>\n",
       "      <td>0.649829</td>\n",
       "      <td>quota</td>\n",
       "    </tr>\n",
       "    <tr>\n",
       "      <th>3</th>\n",
       "      <td>(30000, 49700)</td>\n",
       "      <td>25800</td>\n",
       "      <td>2312.0</td>\n",
       "      <td>23488.0</td>\n",
       "      <td>0.491706</td>\n",
       "      <td>0.458750</td>\n",
       "      <td>0.461522</td>\n",
       "      <td>-0.071407</td>\n",
       "      <td>0.002353</td>\n",
       "      <td>0.649829</td>\n",
       "      <td>quota</td>\n",
       "    </tr>\n",
       "    <tr>\n",
       "      <th>4</th>\n",
       "      <td>(49700, inf)</td>\n",
       "      <td>14517</td>\n",
       "      <td>158.0</td>\n",
       "      <td>14359.0</td>\n",
       "      <td>0.033603</td>\n",
       "      <td>0.280449</td>\n",
       "      <td>0.259687</td>\n",
       "      <td>2.092460</td>\n",
       "      <td>0.516516</td>\n",
       "      <td>0.649829</td>\n",
       "      <td>quota</td>\n",
       "    </tr>\n",
       "  </tbody>\n",
       "</table>\n",
       "</div>"
      ],
      "text/plain": [
       "         interval  total     bad     good   bad_pct  good_pct    PctRec  \\\n",
       "0      (0, 19700)   3844   498.0   3346.0  0.105912  0.065352  0.068763   \n",
       "1  (19700, 24800)   5800   861.0   4939.0  0.183114  0.096465  0.103753   \n",
       "2  (24800, 30000)   5941   873.0   5068.0  0.185666  0.098984  0.106275   \n",
       "3  (30000, 49700)  25800  2312.0  23488.0  0.491706  0.458750  0.461522   \n",
       "4    (49700, inf)  14517   158.0  14359.0  0.033603  0.280449  0.259687   \n",
       "\n",
       "        WOE    ori_iv    sum_iv var_name  \n",
       "0 -0.492228  0.019965  0.649829    quota  \n",
       "1 -0.646374  0.056007  0.649829    quota  \n",
       "2 -0.634357  0.054987  0.649829    quota  \n",
       "3 -0.071407  0.002353  0.649829    quota  \n",
       "4  2.092460  0.516516  0.649829    quota  "
      ]
     },
     "execution_count": 11,
     "metadata": {},
     "output_type": "execute_result"
    }
   ],
   "source": [
    "woe_info.head()  # 用于分析"
   ]
  },
  {
   "cell_type": "markdown",
   "metadata": {},
   "source": [
    "## 转换成WOE分值"
   ]
  },
  {
   "cell_type": "code",
   "execution_count": 12,
   "metadata": {
    "collapsed": true
   },
   "outputs": [],
   "source": [
    "# test\n",
    "# woe_dict['quota']['WOE']['(0, 19700)']['WOE']\n",
    "# discrete_data['quota_Bins'].map(lambda x: woe_dict['quota']['WOE'][x]['WOE'])"
   ]
  },
  {
   "cell_type": "code",
   "execution_count": null,
   "metadata": {
    "collapsed": true
   },
   "outputs": [],
   "source": []
  },
  {
   "cell_type": "code",
   "execution_count": 13,
   "metadata": {
    "collapsed": true
   },
   "outputs": [],
   "source": [
    "woe_data = pd.DataFrame()\n",
    "for c in discrete_data.columns:\n",
    "    if c not in ['customer_id', 'isBad']:\n",
    "        raw_col = '_'.join(c.split('_')[:-1])\n",
    "        woe_data['%s_woe' % raw_col] = discrete_data[c].map(lambda x: woe_dict[raw_col]['WOE'][x]['WOE'])"
   ]
  },
  {
   "cell_type": "code",
   "execution_count": 14,
   "metadata": {
    "collapsed": true
   },
   "outputs": [],
   "source": [
    "# 转换好坏的概念\n",
    "woe_data['isBad'] =  1 - data1['isBad']\n",
    "woe_data['customer_id'] = data1['customer_id']"
   ]
  },
  {
   "cell_type": "code",
   "execution_count": 15,
   "metadata": {
    "collapsed": true
   },
   "outputs": [],
   "source": [
    "woe_data.to_csv('WOE_DATA.csv', index=False)"
   ]
  },
  {
   "cell_type": "markdown",
   "metadata": {},
   "source": [
    "## 训练逻辑回归"
   ]
  },
  {
   "cell_type": "code",
   "execution_count": 16,
   "metadata": {
    "collapsed": true
   },
   "outputs": [],
   "source": [
    "from sklearn.linear_model import LogisticRegression\n",
    "from sklearn.model_selection import train_test_split\n",
    "\n",
    "x_train, x_test, y_train, y_test = train_test_split(\n",
    "    woe_data.loc[:, woe_data.columns != 'isBad'], woe_data.loc[:, woe_data.columns == 'isBad'], test_size=0.2)\n",
    "\n",
    "train_id = x_train.pop('customer_id')\n",
    "test_id = x_test.pop('customer_id')"
   ]
  },
  {
   "cell_type": "code",
   "execution_count": 17,
   "metadata": {},
   "outputs": [
    {
     "data": {
      "text/plain": [
       "(44721, 13)"
      ]
     },
     "execution_count": 17,
     "metadata": {},
     "output_type": "execute_result"
    }
   ],
   "source": [
    "x_train.shape"
   ]
  },
  {
   "cell_type": "code",
   "execution_count": 18,
   "metadata": {},
   "outputs": [
    {
     "data": {
      "text/plain": [
       "1.0    40940\n",
       "0.0     3781\n",
       "Name: isBad, dtype: int64"
      ]
     },
     "execution_count": 18,
     "metadata": {},
     "output_type": "execute_result"
    }
   ],
   "source": [
    "y_train['isBad'].value_counts()"
   ]
  },
  {
   "cell_type": "code",
   "execution_count": 19,
   "metadata": {},
   "outputs": [
    {
     "data": {
      "text/plain": [
       "1.0    10260\n",
       "0.0      921\n",
       "Name: isBad, dtype: int64"
      ]
     },
     "execution_count": 19,
     "metadata": {},
     "output_type": "execute_result"
    }
   ],
   "source": [
    "y_test['isBad'].value_counts()"
   ]
  },
  {
   "cell_type": "code",
   "execution_count": 20,
   "metadata": {},
   "outputs": [
    {
     "data": {
      "text/html": [
       "<div>\n",
       "<style>\n",
       "    .dataframe thead tr:only-child th {\n",
       "        text-align: right;\n",
       "    }\n",
       "\n",
       "    .dataframe thead th {\n",
       "        text-align: left;\n",
       "    }\n",
       "\n",
       "    .dataframe tbody tr th {\n",
       "        vertical-align: top;\n",
       "    }\n",
       "</style>\n",
       "<table border=\"1\" class=\"dataframe\">\n",
       "  <thead>\n",
       "    <tr style=\"text-align: right;\">\n",
       "      <th></th>\n",
       "      <th>quota_woe</th>\n",
       "      <th>ratio_interest_loan_woe</th>\n",
       "      <th>pct_pre_repay_woe</th>\n",
       "      <th>repay_nums_overdue_woe</th>\n",
       "      <th>repay_nums_pre_woe</th>\n",
       "      <th>repay_nums_due_woe</th>\n",
       "      <th>ratio_loan_quota_woe</th>\n",
       "      <th>M0_nums_woe</th>\n",
       "      <th>pct_morning_repay_woe</th>\n",
       "      <th>pct_night_repay_woe</th>\n",
       "      <th>repay_nums_Dawn_woe</th>\n",
       "      <th>life_long_days_woe</th>\n",
       "      <th>pct_afternoon_loan_woe</th>\n",
       "    </tr>\n",
       "  </thead>\n",
       "  <tbody>\n",
       "    <tr>\n",
       "      <th>35942</th>\n",
       "      <td>-0.646374</td>\n",
       "      <td>0.026688</td>\n",
       "      <td>0.972048</td>\n",
       "      <td>0.346107</td>\n",
       "      <td>0.072959</td>\n",
       "      <td>-0.008287</td>\n",
       "      <td>0.066724</td>\n",
       "      <td>0.158904</td>\n",
       "      <td>-0.034070</td>\n",
       "      <td>-0.086392</td>\n",
       "      <td>0.061406</td>\n",
       "      <td>0.361076</td>\n",
       "      <td>-0.346771</td>\n",
       "    </tr>\n",
       "    <tr>\n",
       "      <th>2667</th>\n",
       "      <td>-0.646374</td>\n",
       "      <td>0.026688</td>\n",
       "      <td>0.446233</td>\n",
       "      <td>0.346107</td>\n",
       "      <td>0.517108</td>\n",
       "      <td>-0.139809</td>\n",
       "      <td>0.066724</td>\n",
       "      <td>0.158904</td>\n",
       "      <td>-0.034070</td>\n",
       "      <td>-0.086392</td>\n",
       "      <td>0.061406</td>\n",
       "      <td>-0.024682</td>\n",
       "      <td>-0.346771</td>\n",
       "    </tr>\n",
       "    <tr>\n",
       "      <th>9654</th>\n",
       "      <td>2.092460</td>\n",
       "      <td>0.026688</td>\n",
       "      <td>-0.513310</td>\n",
       "      <td>-0.951774</td>\n",
       "      <td>0.517108</td>\n",
       "      <td>-0.139809</td>\n",
       "      <td>0.066724</td>\n",
       "      <td>0.158904</td>\n",
       "      <td>0.002912</td>\n",
       "      <td>-0.086392</td>\n",
       "      <td>-0.901072</td>\n",
       "      <td>-0.148260</td>\n",
       "      <td>0.111926</td>\n",
       "    </tr>\n",
       "    <tr>\n",
       "      <th>42056</th>\n",
       "      <td>-0.646374</td>\n",
       "      <td>0.026688</td>\n",
       "      <td>-0.513310</td>\n",
       "      <td>0.346107</td>\n",
       "      <td>-1.070400</td>\n",
       "      <td>-0.139809</td>\n",
       "      <td>0.066724</td>\n",
       "      <td>-0.828075</td>\n",
       "      <td>0.002912</td>\n",
       "      <td>-0.086392</td>\n",
       "      <td>0.061406</td>\n",
       "      <td>-0.020487</td>\n",
       "      <td>-0.036895</td>\n",
       "    </tr>\n",
       "    <tr>\n",
       "      <th>49405</th>\n",
       "      <td>2.092460</td>\n",
       "      <td>0.026688</td>\n",
       "      <td>3.570414</td>\n",
       "      <td>0.346107</td>\n",
       "      <td>0.739350</td>\n",
       "      <td>-0.008287</td>\n",
       "      <td>1.104175</td>\n",
       "      <td>0.158904</td>\n",
       "      <td>-0.034070</td>\n",
       "      <td>-0.086392</td>\n",
       "      <td>0.061406</td>\n",
       "      <td>-0.020487</td>\n",
       "      <td>-0.036895</td>\n",
       "    </tr>\n",
       "  </tbody>\n",
       "</table>\n",
       "</div>"
      ],
      "text/plain": [
       "      quota_woe ratio_interest_loan_woe pct_pre_repay_woe  \\\n",
       "35942 -0.646374                0.026688          0.972048   \n",
       "2667  -0.646374                0.026688          0.446233   \n",
       "9654   2.092460                0.026688         -0.513310   \n",
       "42056 -0.646374                0.026688         -0.513310   \n",
       "49405  2.092460                0.026688          3.570414   \n",
       "\n",
       "      repay_nums_overdue_woe repay_nums_pre_woe repay_nums_due_woe  \\\n",
       "35942               0.346107           0.072959          -0.008287   \n",
       "2667                0.346107           0.517108          -0.139809   \n",
       "9654               -0.951774           0.517108          -0.139809   \n",
       "42056               0.346107          -1.070400          -0.139809   \n",
       "49405               0.346107           0.739350          -0.008287   \n",
       "\n",
       "      ratio_loan_quota_woe M0_nums_woe pct_morning_repay_woe  \\\n",
       "35942             0.066724    0.158904             -0.034070   \n",
       "2667              0.066724    0.158904             -0.034070   \n",
       "9654              0.066724    0.158904              0.002912   \n",
       "42056             0.066724   -0.828075              0.002912   \n",
       "49405             1.104175    0.158904             -0.034070   \n",
       "\n",
       "      pct_night_repay_woe repay_nums_Dawn_woe life_long_days_woe  \\\n",
       "35942           -0.086392            0.061406           0.361076   \n",
       "2667            -0.086392            0.061406          -0.024682   \n",
       "9654            -0.086392           -0.901072          -0.148260   \n",
       "42056           -0.086392            0.061406          -0.020487   \n",
       "49405           -0.086392            0.061406          -0.020487   \n",
       "\n",
       "      pct_afternoon_loan_woe  \n",
       "35942              -0.346771  \n",
       "2667               -0.346771  \n",
       "9654                0.111926  \n",
       "42056              -0.036895  \n",
       "49405              -0.036895  "
      ]
     },
     "execution_count": 20,
     "metadata": {},
     "output_type": "execute_result"
    }
   ],
   "source": [
    "x_test.head()"
   ]
  },
  {
   "cell_type": "code",
   "execution_count": 21,
   "metadata": {},
   "outputs": [
    {
     "data": {
      "text/plain": [
       "LogisticRegression(C=0.5, class_weight={0: 10}, dual=False,\n",
       "          fit_intercept=True, intercept_scaling=1, max_iter=100,\n",
       "          multi_class='ovr', n_jobs=1, penalty='l2', random_state=None,\n",
       "          solver='liblinear', tol=0.0001, verbose=0, warm_start=False)"
      ]
     },
     "execution_count": 21,
     "metadata": {},
     "output_type": "execute_result"
    }
   ],
   "source": [
    "lr = LogisticRegression(C=0.5, class_weight={0:10}, max_iter=100)\n",
    "lr.fit(x_train.values, y_train.values.ravel())"
   ]
  },
  {
   "cell_type": "code",
   "execution_count": 22,
   "metadata": {
    "collapsed": true
   },
   "outputs": [],
   "source": [
    "y_pred = lr.predict_proba(x_test)[:,1]"
   ]
  },
  {
   "cell_type": "code",
   "execution_count": 23,
   "metadata": {},
   "outputs": [
    {
     "name": "stdout",
     "output_type": "stream",
     "text": [
      "++++++++++++++++++++++++++++++++++\n",
      "AUC:  0.803431465925\n",
      "Recall:  0.813246471227\n",
      "Precision:  0.169342075514\n",
      "Accyracy:  0.656023611484\n",
      "++++++++++++++++++++++++++++++++++\n"
     ]
    },
    {
     "data": {
      "image/png": "[encoded data removed]",
      "text/plain": [
       "<matplotlib.figure.Figure at 0x219e6969908>"
      ]
     },
     "metadata": {},
     "output_type": "display_data"
    }
   ],
   "source": [
    "# 实际上这里预测的不逾期的概率， 为了是这里看起来正常， 统统用1减\n",
    "plot_confusion_matrix(1-y_test.values.ravel(), 1-y_pred, [0,1])"
   ]
  },
  {
   "cell_type": "code",
   "execution_count": 24,
   "metadata": {},
   "outputs": [
    {
     "data": {
      "image/png": "[encoded data removed]",
      "text/plain": [
       "<matplotlib.figure.Figure at 0x219e131ceb8>"
      ]
     },
     "metadata": {},
     "output_type": "display_data"
    }
   ],
   "source": [
    "df_ks,_ = ks_stats(y_test.values.ravel(), y_pred)"
   ]
  },
  {
   "cell_type": "code",
   "execution_count": 25,
   "metadata": {},
   "outputs": [
    {
     "data": {
      "image/png": "[encoded data removed]",
      "text/plain": [
       "<matplotlib.figure.Figure at 0x219ddea9d68>"
      ]
     },
     "metadata": {},
     "output_type": "display_data"
    }
   ],
   "source": [
    "plot_roc_curve(y_test.values.ravel(), y_pred)"
   ]
  },
  {
   "cell_type": "markdown",
   "metadata": {},
   "source": [
    "## 生成評分卡"
   ]
  },
  {
   "cell_type": "code",
   "execution_count": 26,
   "metadata": {
    "collapsed": true
   },
   "outputs": [],
   "source": [
    "def _score_cal(basepoints, odds, PDO):\n",
    "    \"\"\"\n",
    "    cal alpha&beta for score formula, \n",
    "    score = alpha + beta * log(odds)\n",
    "    ---------------------------------------\n",
    "    Params\n",
    "    basepoints: expect base points\n",
    "    odds: cal by logit model\n",
    "    PDO: points of double odds  \n",
    "    ---------------------------------------\n",
    "    Return\n",
    "    alpha, beta \n",
    "    \"\"\"\n",
    "    beta = PDO/np.log(2)  \n",
    "    alpha = basepoints - beta*np.log(odds)\n",
    "    return alpha, beta"
   ]
  },
  {
   "cell_type": "code",
   "execution_count": 27,
   "metadata": {
    "collapsed": true
   },
   "outputs": [],
   "source": [
    "# 按好坏比15为600分，每高20分好坏比翻一倍算出P,Q。\n",
    "basepoint = 600\n",
    "PDO = 20\n",
    "odds = 15\n",
    "q, p = _score_cal(basepoint, odds, PDO)"
   ]
  },
  {
   "cell_type": "code",
   "execution_count": 28,
   "metadata": {},
   "outputs": [
    {
     "data": {
      "text/plain": [
       "28.85390081777927"
      ]
     },
     "execution_count": 28,
     "metadata": {},
     "output_type": "execute_result"
    }
   ],
   "source": [
    "p"
   ]
  },
  {
   "cell_type": "code",
   "execution_count": 29,
   "metadata": {},
   "outputs": [
    {
     "data": {
      "text/plain": [
       "521.86218808782962"
      ]
     },
     "execution_count": 29,
     "metadata": {},
     "output_type": "execute_result"
    }
   ],
   "source": [
    "q"
   ]
  },
  {
   "cell_type": "code",
   "execution_count": 30,
   "metadata": {
    "collapsed": true
   },
   "outputs": [],
   "source": [
    "# 截距\n",
    "b = lr.intercept_[0]"
   ]
  },
  {
   "cell_type": "code",
   "execution_count": 31,
   "metadata": {},
   "outputs": [
    {
     "data": {
      "text/plain": [
       "array([[ 0.93957121, -0.05359666,  0.77562111,  0.65150812,  0.50770733,\n",
       "         0.19881618,  0.04714561, -0.11148516, -0.02887506, -0.52601164,\n",
       "         0.52863586, -0.24519365,  0.38491919]])"
      ]
     },
     "execution_count": 31,
     "metadata": {},
     "output_type": "execute_result"
    }
   ],
   "source": [
    "# 系数\n",
    "lr.coef_"
   ]
  },
  {
   "cell_type": "code",
   "execution_count": 32,
   "metadata": {},
   "outputs": [
    {
     "data": {
      "text/plain": [
       "0.11530435451078709"
      ]
     },
     "execution_count": 32,
     "metadata": {},
     "output_type": "execute_result"
    }
   ],
   "source": [
    "b"
   ]
  },
  {
   "cell_type": "code",
   "execution_count": 33,
   "metadata": {
    "collapsed": true
   },
   "outputs": [],
   "source": [
    "base_score = q + p * b"
   ]
  },
  {
   "cell_type": "code",
   "execution_count": 34,
   "metadata": {},
   "outputs": [
    {
     "data": {
      "text/plain": [
       "525.1891684967419"
      ]
     },
     "execution_count": 34,
     "metadata": {},
     "output_type": "execute_result"
    }
   ],
   "source": [
    "base_score"
   ]
  },
  {
   "cell_type": "code",
   "execution_count": 35,
   "metadata": {
    "collapsed": true
   },
   "outputs": [],
   "source": [
    "# 测试样本的B卡得分\n",
    "test_score = np.dot(x_test.values, lr.coef_.ravel()) * p + q"
   ]
  },
  {
   "cell_type": "code",
   "execution_count": 36,
   "metadata": {},
   "outputs": [],
   "source": [
    "test_score_df = pd.DataFrame({'customer_id': test_id, 'score':test_score, 'isBad': y_test.values.ravel()})\n",
    "test_score_df.to_csv('TEST_SCORE.csv', index=False)"
   ]
  },
  {
   "cell_type": "code",
   "execution_count": 44,
   "metadata": {},
   "outputs": [
    {
     "data": {
      "image/png": "[encoded data removed]",
      "text/plain": [
       "<matplotlib.figure.Figure at 0x219e16ada58>"
      ]
     },
     "metadata": {},
     "output_type": "display_data"
    }
   ],
   "source": [
    "# 同上\n",
    "df_ks,_ = ks_stats(1-y_test.values.ravel(), 1-test_score)"
   ]
  },
  {
   "cell_type": "code",
   "execution_count": 38,
   "metadata": {},
   "outputs": [
    {
     "data": {
      "text/html": [
       "<div>\n",
       "<style>\n",
       "    .dataframe thead tr:only-child th {\n",
       "        text-align: right;\n",
       "    }\n",
       "\n",
       "    .dataframe thead th {\n",
       "        text-align: left;\n",
       "    }\n",
       "\n",
       "    .dataframe tbody tr th {\n",
       "        vertical-align: top;\n",
       "    }\n",
       "</style>\n",
       "<table border=\"1\" class=\"dataframe\">\n",
       "  <thead>\n",
       "    <tr style=\"text-align: right;\">\n",
       "      <th></th>\n",
       "      <th>interval</th>\n",
       "      <th>total</th>\n",
       "      <th>bad</th>\n",
       "      <th>good</th>\n",
       "      <th>bad_pct</th>\n",
       "      <th>good_pct</th>\n",
       "      <th>PctRec</th>\n",
       "      <th>WOE</th>\n",
       "      <th>ori_iv</th>\n",
       "      <th>sum_iv</th>\n",
       "      <th>var_name</th>\n",
       "    </tr>\n",
       "  </thead>\n",
       "  <tbody>\n",
       "    <tr>\n",
       "      <th>0</th>\n",
       "      <td>(0, 19700)</td>\n",
       "      <td>3844</td>\n",
       "      <td>498.0</td>\n",
       "      <td>3346.0</td>\n",
       "      <td>0.105912</td>\n",
       "      <td>0.065352</td>\n",
       "      <td>0.068763</td>\n",
       "      <td>-0.492228</td>\n",
       "      <td>0.019965</td>\n",
       "      <td>0.649829</td>\n",
       "      <td>quota</td>\n",
       "    </tr>\n",
       "    <tr>\n",
       "      <th>1</th>\n",
       "      <td>(19700, 24800)</td>\n",
       "      <td>5800</td>\n",
       "      <td>861.0</td>\n",
       "      <td>4939.0</td>\n",
       "      <td>0.183114</td>\n",
       "      <td>0.096465</td>\n",
       "      <td>0.103753</td>\n",
       "      <td>-0.646374</td>\n",
       "      <td>0.056007</td>\n",
       "      <td>0.649829</td>\n",
       "      <td>quota</td>\n",
       "    </tr>\n",
       "    <tr>\n",
       "      <th>2</th>\n",
       "      <td>(24800, 30000)</td>\n",
       "      <td>5941</td>\n",
       "      <td>873.0</td>\n",
       "      <td>5068.0</td>\n",
       "      <td>0.185666</td>\n",
       "      <td>0.098984</td>\n",
       "      <td>0.106275</td>\n",
       "      <td>-0.634357</td>\n",
       "      <td>0.054987</td>\n",
       "      <td>0.649829</td>\n",
       "      <td>quota</td>\n",
       "    </tr>\n",
       "    <tr>\n",
       "      <th>3</th>\n",
       "      <td>(30000, 49700)</td>\n",
       "      <td>25800</td>\n",
       "      <td>2312.0</td>\n",
       "      <td>23488.0</td>\n",
       "      <td>0.491706</td>\n",
       "      <td>0.458750</td>\n",
       "      <td>0.461522</td>\n",
       "      <td>-0.071407</td>\n",
       "      <td>0.002353</td>\n",
       "      <td>0.649829</td>\n",
       "      <td>quota</td>\n",
       "    </tr>\n",
       "    <tr>\n",
       "      <th>4</th>\n",
       "      <td>(49700, inf)</td>\n",
       "      <td>14517</td>\n",
       "      <td>158.0</td>\n",
       "      <td>14359.0</td>\n",
       "      <td>0.033603</td>\n",
       "      <td>0.280449</td>\n",
       "      <td>0.259687</td>\n",
       "      <td>2.092460</td>\n",
       "      <td>0.516516</td>\n",
       "      <td>0.649829</td>\n",
       "      <td>quota</td>\n",
       "    </tr>\n",
       "  </tbody>\n",
       "</table>\n",
       "</div>"
      ],
      "text/plain": [
       "         interval  total     bad     good   bad_pct  good_pct    PctRec  \\\n",
       "0      (0, 19700)   3844   498.0   3346.0  0.105912  0.065352  0.068763   \n",
       "1  (19700, 24800)   5800   861.0   4939.0  0.183114  0.096465  0.103753   \n",
       "2  (24800, 30000)   5941   873.0   5068.0  0.185666  0.098984  0.106275   \n",
       "3  (30000, 49700)  25800  2312.0  23488.0  0.491706  0.458750  0.461522   \n",
       "4    (49700, inf)  14517   158.0  14359.0  0.033603  0.280449  0.259687   \n",
       "\n",
       "        WOE    ori_iv    sum_iv var_name  \n",
       "0 -0.492228  0.019965  0.649829    quota  \n",
       "1 -0.646374  0.056007  0.649829    quota  \n",
       "2 -0.634357  0.054987  0.649829    quota  \n",
       "3 -0.071407  0.002353  0.649829    quota  \n",
       "4  2.092460  0.516516  0.649829    quota  "
      ]
     },
     "execution_count": 38,
     "metadata": {},
     "output_type": "execute_result"
    }
   ],
   "source": [
    "# 生成评分卡\n",
    "woe_info.head()"
   ]
  },
  {
   "cell_type": "code",
   "execution_count": 39,
   "metadata": {
    "collapsed": true
   },
   "outputs": [],
   "source": [
    "coef_dict = dict(zip(list(x_train.columns), list(lr.coef_.ravel())))"
   ]
  },
  {
   "cell_type": "code",
   "execution_count": 40,
   "metadata": {},
   "outputs": [],
   "source": [
    "# coef_dict"
   ]
  },
  {
   "cell_type": "code",
   "execution_count": 41,
   "metadata": {},
   "outputs": [],
   "source": [
    "woe_info['score'] = woe_info.apply(lambda row: row['WOE'] * p * coef_dict['%s_woe' % row['var_name']], axis=1)"
   ]
  },
  {
   "cell_type": "code",
   "execution_count": 42,
   "metadata": {},
   "outputs": [],
   "source": [
    "woe_info.to_csv('SCORE.csv', index=False)"
   ]
  }
 ],
 "metadata": {
  "kernelspec": {
   "display_name": "Python 3",
   "language": "python",
   "name": "python3"
  },
  "language_info": {
   "codemirror_mode": {
    "name": "ipython",
    "version": 3
   },
   "file_extension": ".py",
   "mimetype": "text/x-python",
   "name": "python",
   "nbconvert_exporter": "python",
   "pygments_lexer": "ipython3",
   "version": "3.6.1"
  }
 },
 "nbformat": 4,
 "nbformat_minor": 2
}
